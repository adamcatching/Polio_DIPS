{
 "cells": [
  {
   "cell_type": "markdown",
   "metadata": {
    "collapsed": true
   },
   "source": [
    "# July 18th, 2018\n",
    "## Benjamin Adam Catching\n",
    "## Andino Lab, Summer Rotation Project\n",
    "## Poliovirus DIPs Project"
   ]
  },
  {
   "cell_type": "markdown",
   "metadata": {},
   "source": [
    "The goal is that by the middle of the day the images from the second microfluidics test will be processed by the new microfluidics_analysis script and the results analyzed. The aspects to be summarized into two graphs will be  \n",
    "1) A bargraph of the percentage of droplets containing a cell for each condition (HeLa, 293T, Fast, Slow, Rock) with a value N for each bar.  \n",
    "2) A bargraph of the percentage of alive cells, again with a N for each condition."
   ]
  },
  {
   "cell_type": "code",
   "execution_count": 1,
   "metadata": {},
   "outputs": [],
   "source": [
    "# Import necessary packages for displaying the results\n",
    "import numpy as np\n",
    "import matplotlib.pyplot as plt\n",
    "import seaborn as sns\n",
    "import skimage\n",
    "import glob\n",
    "import pandas as pd\n",
    "from tools import microfluidics_analysis as micro\n",
    "\n",
    "%matplotlib inline"
   ]
  },
  {
   "cell_type": "code",
   "execution_count": 2,
   "metadata": {},
   "outputs": [],
   "source": [
    "# Set the image directory based on if working on notebook in pycharm or not\n",
    "in_pycharm = True\n",
    "if in_pycharm:\n",
    "    bulk_cell_dir = 'data/20180710_Microfluidic_picture/'\n",
    "else:\n",
    "    bulk_cell_dir = '../../data/20180710_Microfluidic_picture/'\n",
    "    \n",
    "# Define the six directories that contain image files\n",
    "hs_files = 'HeLa_Slow/*40X*.tif'\n",
    "hf_files = 'HeLa_Fast/*40X*.tif'\n",
    "hsr_files = 'HeLa_Slow_Rock/*40X*.tif'\n",
    "hfr_files = 'HeLa_Fast_Rock/*40X*.tif'\n",
    "two93f_files = '293T_Fast/*40X*.tif'\n",
    "two93fr_files = '293T_Fast_Rock/*40X*.tif'"
   ]
  },
  {
   "cell_type": "code",
   "execution_count": 3,
   "metadata": {},
   "outputs": [],
   "source": [
    "# Read in the HeLa cell files and sort\n",
    "hela_slow_files = sorted(glob.glob(bulk_cell_dir + hs_files))\n",
    "hela_slow_rock_files = sorted(glob.glob(bulk_cell_dir + hsr_files))\n",
    "hela_fast_files = sorted(glob.glob(bulk_cell_dir + hf_files))\n",
    "hela_fast_rock_files = sorted(glob.glob(bulk_cell_dir + hfr_files))\n",
    "two93_fast_files = sorted(glob.glob(bulk_cell_dir + two93f_files))\n",
    "two93_fast_rock_files = sorted(glob.glob(bulk_cell_dir + two93fr_files))"
   ]
  },
  {
   "cell_type": "code",
   "execution_count": 4,
   "metadata": {},
   "outputs": [],
   "source": [
    "# Combine all file directories\n",
    "cell_files = [hela_slow_files,\n",
    "              hela_slow_rock_files,\n",
    "              hela_fast_files,\n",
    "              hela_fast_rock_files,\n",
    "              two93_fast_files,\n",
    "              two93_fast_rock_files]"
   ]
  },
  {
   "cell_type": "code",
   "execution_count": 5,
   "metadata": {},
   "outputs": [],
   "source": [
    "# Define the lists that will be turned into a DataFrame\n",
    "cell, speed, rock, droplet_area, num_cells, num_dead = \\\n",
    "    [], [], [], [], [], []"
   ]
  },
  {
   "cell_type": "code",
   "execution_count": 6,
   "metadata": {},
   "outputs": [
    {
     "name": "stdout",
     "output_type": "stream",
     "text": [
      "The file is updated\n"
     ]
    },
    {
     "name": "stdout",
     "output_type": "stream",
     "text": [
      "\n"
     ]
    },
    {
     "name": "stdout",
     "output_type": "stream",
     "text": [
      "The file is updated\n"
     ]
    },
    {
     "name": "stdout",
     "output_type": "stream",
     "text": [
      "\n"
     ]
    },
    {
     "name": "stdout",
     "output_type": "stream",
     "text": [
      "The file is updated\n"
     ]
    },
    {
     "name": "stdout",
     "output_type": "stream",
     "text": [
      "\n"
     ]
    },
    {
     "name": "stdout",
     "output_type": "stream",
     "text": [
      "The file is updated\n"
     ]
    },
    {
     "name": "stdout",
     "output_type": "stream",
     "text": [
      "\n"
     ]
    },
    {
     "name": "stdout",
     "output_type": "stream",
     "text": [
      "The file is updated\n"
     ]
    },
    {
     "name": "stdout",
     "output_type": "stream",
     "text": [
      "\n"
     ]
    },
    {
     "name": "stdout",
     "output_type": "stream",
     "text": [
      "The file is updated\n"
     ]
    },
    {
     "name": "stdout",
     "output_type": "stream",
     "text": [
      "\n"
     ]
    },
    {
     "name": "stdout",
     "output_type": "stream",
     "text": [
      "The file is updated\n"
     ]
    },
    {
     "name": "stdout",
     "output_type": "stream",
     "text": [
      "\n"
     ]
    },
    {
     "name": "stdout",
     "output_type": "stream",
     "text": [
      "The file is updated\n"
     ]
    },
    {
     "name": "stdout",
     "output_type": "stream",
     "text": [
      "\n"
     ]
    },
    {
     "name": "stdout",
     "output_type": "stream",
     "text": [
      "The file is updated\n"
     ]
    },
    {
     "name": "stdout",
     "output_type": "stream",
     "text": [
      "\n"
     ]
    },
    {
     "name": "stdout",
     "output_type": "stream",
     "text": [
      "The file is updated\n"
     ]
    },
    {
     "name": "stdout",
     "output_type": "stream",
     "text": [
      "\n"
     ]
    },
    {
     "name": "stdout",
     "output_type": "stream",
     "text": [
      "The file is updated\n"
     ]
    },
    {
     "name": "stdout",
     "output_type": "stream",
     "text": [
      "\n"
     ]
    },
    {
     "name": "stdout",
     "output_type": "stream",
     "text": [
      "The file is updated\n"
     ]
    },
    {
     "name": "stdout",
     "output_type": "stream",
     "text": [
      "\n"
     ]
    },
    {
     "name": "stdout",
     "output_type": "stream",
     "text": [
      "The file is updated\n"
     ]
    },
    {
     "name": "stdout",
     "output_type": "stream",
     "text": [
      "\n"
     ]
    },
    {
     "name": "stdout",
     "output_type": "stream",
     "text": [
      "The file is updated\n"
     ]
    },
    {
     "name": "stdout",
     "output_type": "stream",
     "text": [
      "\n"
     ]
    },
    {
     "name": "stdout",
     "output_type": "stream",
     "text": [
      "The file is updated\n"
     ]
    },
    {
     "name": "stdout",
     "output_type": "stream",
     "text": [
      "\n"
     ]
    },
    {
     "name": "stdout",
     "output_type": "stream",
     "text": [
      "The file is updated\n"
     ]
    },
    {
     "name": "stdout",
     "output_type": "stream",
     "text": [
      "\n"
     ]
    },
    {
     "name": "stdout",
     "output_type": "stream",
     "text": [
      "The file is updated\n"
     ]
    },
    {
     "name": "stdout",
     "output_type": "stream",
     "text": [
      "\n"
     ]
    }
   ],
   "source": [
    "# Read in the 293T files\n",
    "for directory in cell_files:\n",
    "    for i, bright_file in enumerate(directory[0::2]):\n",
    "    \n",
    "        # Define the cell type, speed, and rock or not\n",
    "        if i <= 3:\n",
    "            cell_type = 'HeLa'\n",
    "        else:\n",
    "            cell_type = '293T'\n",
    "        if i <= 1:\n",
    "            speed_type = 'Slow'\n",
    "        else:\n",
    "            speed_type = 'Fast'\n",
    "        if i % 2 == 0:\n",
    "            rock_type = False\n",
    "        else:\n",
    "            rock_type = True\n",
    "    \n",
    "        # Shift the index and define the bright and gfp images\n",
    "        index = i * 2\n",
    "        bright_file = bright_file\n",
    "        gfp_file = directory[index+1]\n",
    "    \n",
    "        # Initialize the droplet object\n",
    "        temp_droplet_image = micro.BulkDroplet(bright_file, multi_channel=True)\n",
    "    \n",
    "        # Define the regions of the droplets\n",
    "        temp_droplet_labeled, temp_droplet_props = temp_droplet_image.droplet_segment(testing=False)\n",
    "        \n",
    "    \n",
    "        # Define the cell attributes of the droplets\n",
    "        droplet_cells_list, gfp_droplets = micro.cell_bright_gfp_thresh(temp_droplet_labeled, \n",
    "                                                              temp_droplet_props,\n",
    "                                                              bright_file,\n",
    "                                                              gfp_file)\n",
    "        #print(micro.diff_cells(droplet_cells_list[0])[0].max())\n",
    "    \n",
    "        # Define the number of brightfield and gfp cells\n",
    "        all_cells = [micro.diff_cells(x)[0].max() for x in droplet_cells_list]\n",
    "        dead_cells = [micro.diff_cells(x)[0].max() for x in gfp_droplets]\n",
    "    \n",
    "        # Make sure that all the lists are the same length\n",
    "        if len(temp_droplet_props) == len(all_cells) == len(dead_cells):\n",
    "            for j, droplet in enumerate(temp_droplet_props):\n",
    "                cell.append(cell_type)\n",
    "                speed.append(speed_type)\n",
    "                rock.append(rock_type)\n",
    "                droplet_area.append(droplet.area)\n",
    "                num_cells.append(all_cells[j])\n",
    "                num_dead.append(dead_cells[j])\n",
    "        else:\n",
    "            print('Set %d has %d droplets, %d cell regions, and %d dead cell regions'\n",
    "                  % (i, len(temp_droplet_props), len(all_cells), len(dead_cells)))"
   ]
  },
  {
   "cell_type": "code",
   "execution_count": 7,
   "metadata": {},
   "outputs": [],
   "source": [
    "# Create the pandas dictionary\n",
    "column_names = ['cell', 'speed', 'rock', 'droplet_area', 'num_cells', 'num_dead']\n",
    "column_data = zip(column_names, [cell, \n",
    "                                 speed, \n",
    "                                 rock, \n",
    "                                 droplet_area, \n",
    "                                 num_cells, \n",
    "                                 num_dead])\n",
    "dataframe_data = dict(column_data)\n",
    "initial_cell_data = pd.DataFrame(dataframe_data)"
   ]
  },
  {
   "cell_type": "code",
   "execution_count": 8,
   "metadata": {},
   "outputs": [],
   "source": [
    "# Convert the area in pixels to area in square microns\n",
    "microns_per_pixel = 0.1605\n",
    "initial_cell_data['droplet_area_micron'] = initial_cell_data['droplet_area'] * (microns_per_pixel**2)"
   ]
  },
  {
   "cell_type": "code",
   "execution_count": 9,
   "metadata": {},
   "outputs": [
    {
     "data": {
      "text/plain": [
       "array([ 1. ,  0. , -0.5,  0.5, -1. ])"
      ]
     },
     "execution_count": 9,
     "metadata": {},
     "output_type": "execute_result"
    }
   ],
   "source": [
    "# Create a percentage of alive cells column\n",
    "initial_cell_data['percent_alive'] = (initial_cell_data['num_cells'] - \n",
    "                                      initial_cell_data['num_dead']) / initial_cell_data['num_cells']\n",
    "initial_cell_data['percent_alive'] = initial_cell_data['percent_alive'].replace(np.nan, 0)\n",
    "initial_cell_data['percent_alive'] = initial_cell_data['percent_alive'].replace(-np.inf, 0)\n",
    "initial_cell_data['percent_alive'].unique()"
   ]
  },
  {
   "cell_type": "code",
   "execution_count": 10,
   "metadata": {},
   "outputs": [
    {
     "data": {
      "image/png": "[encoded data removed]",
      "text/plain": [
       "<Figure size 432x288 with 1 Axes>"
      ]
     },
     "metadata": {},
     "output_type": "display_data"
    }
   ],
   "source": [
    "with sns.axes_style('dark'):\n",
    "     initial_cell_data.plot(kind='hist', y='percent_alive')"
   ]
  },
  {
   "cell_type": "code",
   "execution_count": 11,
   "metadata": {},
   "outputs": [],
   "source": [
    "# Group the cells by presence of Rock\n",
    "rock_cells = initial_cell_data[initial_cell_data['rock']==True]\n",
    "no_rock_cells = initial_cell_data[initial_cell_data['rock']==False]\n",
    "\n",
    "# Group the cells by HeLa or 293T\n",
    "hela_cells = initial_cell_data[initial_cell_data['cell']=='HeLa']\n",
    "two93T_cells = initial_cell_data[initial_cell_data['cell']=='293T']\n",
    "\n",
    "# Group the cells by either fast or slow\n",
    "fast_cells = initial_cell_data[initial_cell_data['speed']=='Fast']\n",
    "slow_cells = initial_cell_data[initial_cell_data['speed']=='Slow']"
   ]
  },
  {
   "cell_type": "code",
   "execution_count": 12,
   "metadata": {},
   "outputs": [
    {
     "data": {
      "image/png": "[encoded data removed]",
      "text/plain": [
       "<Figure size 720x360 with 2 Axes>"
      ]
     },
     "metadata": {},
     "output_type": "display_data"
    }
   ],
   "source": [
    "# If there is a noticable difference in the presence of rock\n",
    "with sns.axes_style('darkgrid'):\n",
    "    fig, ax = plt.subplots(1, 2, figsize=(10, 5), sharey=True)\n",
    "    no_rock_cells.percent_alive.plot(kind='hist', ax=ax[0], density=1, color='navy')\n",
    "    ax[0].set_title('-Rock')\n",
    "    rock_cells.percent_alive.plot(kind='hist', ax=ax[1], density=1, color='firebrick')\n",
    "    ax[1].set_title('+Rock')\n",
    "plt.show()"
   ]
  },
  {
   "cell_type": "code",
   "execution_count": 13,
   "metadata": {},
   "outputs": [
    {
     "data": {
      "image/png": "[encoded data removed]",
      "text/plain": [
       "<Figure size 720x360 with 2 Axes>"
      ]
     },
     "metadata": {},
     "output_type": "display_data"
    }
   ],
   "source": [
    "# Explore if there is a noticable difference in the speed\n",
    "with sns.axes_style('darkgrid'):\n",
    "    fig, ax = plt.subplots(1, 2, figsize=(10, 5), sharey=True, sharex=True)\n",
    "    fast_cells.percent_alive.plot(kind='hist', ax=ax[0], density=1, color='navy')\n",
    "    ax[0].set_title('Fast')\n",
    "    slow_cells.percent_alive.plot(kind='hist', ax=ax[1], density=1, color='firebrick')\n",
    "    ax[1].set_title('Slow')\n",
    "plt.show()"
   ]
  },
  {
   "cell_type": "code",
   "execution_count": 14,
   "metadata": {},
   "outputs": [
    {
     "data": {
      "image/png": "[encoded data removed]",
      "text/plain": [
       "<Figure size 720x360 with 2 Axes>"
      ]
     },
     "metadata": {},
     "output_type": "display_data"
    }
   ],
   "source": [
    "# See if there is difference in cell type\n",
    "with sns.axes_style('darkgrid'):\n",
    "    fig, ax = plt.subplots(1, 2, figsize=(10, 5), sharey=True, sharex=True)\n",
    "    hela_cells.percent_alive.plot(kind='hist', ax=ax[0], density=1, color='navy')\n",
    "    ax[0].set_title('HeLa Cells')\n",
    "    two93T_cells.percent_alive.plot(kind='hist', ax=ax[1], density=1, color='firebrick')\n",
    "    ax[1].set_title('293T Cells')\n",
    "plt.show()"
   ]
  },
  {
   "cell_type": "code",
   "execution_count": 20,
   "metadata": {},
   "outputs": [],
   "source": [
    "# Write the data to a .csv file\n",
    "initial_cell_data.to_csv(bulk_cell_dir + 'Droplet_data.csv')"
   ]
  },
  {
   "cell_type": "code",
   "execution_count": 19,
   "metadata": {},
   "outputs": [
    {
     "name": "stdout",
     "output_type": "stream",
     "text": [
      "0\n"
     ]
    }
   ],
   "source": [
    ""
   ]
  },
  {
   "cell_type": "code",
   "execution_count": null,
   "metadata": {},
   "outputs": [],
   "source": []
  }
 ],
 "metadata": {
  "kernelspec": {
   "display_name": "Python 2",
   "language": "python",
   "name": "python2"
  },
  "language_info": {
   "codemirror_mode": {
    "name": "ipython",
    "version": 2
   },
   "file_extension": ".py",
   "mimetype": "text/x-python",
   "name": "python",
   "nbconvert_exporter": "python",
   "pygments_lexer": "ipython2",
   "version": "2.7.6"
  }
 },
 "nbformat": 4,
 "nbformat_minor": 0
}
