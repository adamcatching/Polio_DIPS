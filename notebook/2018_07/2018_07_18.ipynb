{
 "cells": [
  {
   "cell_type": "markdown",
   "metadata": {
    "collapsed": true
   },
   "source": [
    "# July 18th, 2018\n",
    "## Benjamin Adam Catching\n",
    "## Andino Lab, Summer Rotation Project\n",
    "## Poliovirus DIPs Project"
   ]
  },
  {
   "cell_type": "markdown",
   "metadata": {},
   "source": [
    "The goal is that by the middle of the day the images from the second microfluidics test will be processed by the new microfluidics_analysis script and the results analyzed. The aspects to be summarized into two graphs will be  \n",
    "1) A bargraph of the percentage of droplets containing a cell for each condition (HeLa, 293T, Fast, Slow, Rock) with a value N for each bar.  \n",
    "2) A bargraph of the percentage of alive cells, again with a N for each condition."
   ]
  },
  {
   "cell_type": "code",
   "execution_count": 36,
   "metadata": {},
   "outputs": [],
   "source": [
    "# Import necessary packages for displaying the results\n",
    "import numpy as np\n",
    "import matplotlib.pyplot as plt\n",
    "import seaborn as sns\n",
    "import skimage\n",
    "import glob\n",
    "import pandas as pd\n",
    "from tools import microfluidics_analysis as micro\n",
    "\n",
    "%matplotlib inline"
   ]
  },
  {
   "cell_type": "code",
   "execution_count": 13,
   "metadata": {},
   "outputs": [],
   "source": [
    "# Set the image directory based on if working on notebook in pycharm or not\n",
    "in_pycharm = True\n",
    "if in_pycharm:\n",
    "    bulk_cell_dir = 'data/20180710_Microfluidic_picture/'\n",
    "else:\n",
    "    bulk_cell_dir = '../../data/20180710_Microfluidic_picture/'\n",
    "    \n",
    "# Define the six directories that contain image files\n",
    "hs_files = 'HeLa_Slow/*40X*.tif'\n",
    "hf_files = 'HeLa_Fast/*40X*.tif'\n",
    "hsr_files = 'HeLa_Slow_Rock/*40X*.tif'\n",
    "hfr_files = 'HeLa_Fast_Rock/*40X*.tif'\n",
    "two93f_files = '293T_Fast/*40X*.tif'\n",
    "two93fr_files = '293T_Fast_Rock/*40X*.tif'"
   ]
  },
  {
   "cell_type": "code",
   "execution_count": 17,
   "metadata": {},
   "outputs": [],
   "source": [
    "# Read in the HeLa cell files and sort\n",
    "hela_slow_files = sorted(glob.glob(bulk_cell_dir + hs_files))\n",
    "hela_slow_rock_files = sorted(glob.glob(bulk_cell_dir + hsr_files))\n",
    "hela_fast_files = sorted(glob.glob(bulk_cell_dir + hf_files))\n",
    "hela_fast_rock_files = sorted(glob.glob(bulk_cell_dir + hfr_files))\n",
    "two93_fast_files = sorted(glob.glob(bulk_cell_dir + two93f_files))\n",
    "two93_fast_rock_files = sorted(glob.glob(bulk_cell_dir + two93fr_files))"
   ]
  },
  {
   "cell_type": "code",
   "execution_count": 55,
   "metadata": {},
   "outputs": [],
   "source": [
    "# Combine all file directories\n",
    "cell_files = [hela_slow_files,\n",
    "              hela_slow_rock_files,\n",
    "              hela_fast_files,\n",
    "              hela_fast_rock_files,\n",
    "              two93_fast_files,\n",
    "              two93_fast_rock_files]"
   ]
  },
  {
   "cell_type": "code",
   "execution_count": 74,
   "metadata": {},
   "outputs": [],
   "source": [
    "# Define the lists that will be turned into a DataFrame\n",
    "cell, speed, rock, droplet_area, num_cells, num_dead = \\\n",
    "    [], [], [], [], [], []"
   ]
  },
  {
   "cell_type": "code",
   "execution_count": 75,
   "metadata": {},
   "outputs": [
    {
     "name": "stdout",
     "output_type": "stream",
     "text": [
      "The file is updated\n"
     ]
    },
    {
     "name": "stdout",
     "output_type": "stream",
     "text": [
      "\n"
     ]
    },
    {
     "name": "stdout",
     "output_type": "stream",
     "text": [
      "The file is updated\n"
     ]
    },
    {
     "name": "stdout",
     "output_type": "stream",
     "text": [
      "\n"
     ]
    },
    {
     "name": "stdout",
     "output_type": "stream",
     "text": [
      "The file is updated\n"
     ]
    },
    {
     "name": "stdout",
     "output_type": "stream",
     "text": [
      "\n"
     ]
    },
    {
     "name": "stdout",
     "output_type": "stream",
     "text": [
      "The file is updated\n"
     ]
    },
    {
     "name": "stdout",
     "output_type": "stream",
     "text": [
      "\n"
     ]
    },
    {
     "name": "stdout",
     "output_type": "stream",
     "text": [
      "The file is updated\n"
     ]
    },
    {
     "name": "stdout",
     "output_type": "stream",
     "text": [
      "\n"
     ]
    },
    {
     "name": "stdout",
     "output_type": "stream",
     "text": [
      "The file is updated\n"
     ]
    },
    {
     "name": "stdout",
     "output_type": "stream",
     "text": [
      "\n"
     ]
    },
    {
     "name": "stdout",
     "output_type": "stream",
     "text": [
      "The file is updated\n"
     ]
    }
   ],
   "source": [
    "# Read in the 293T files\n",
    "for directory in cell_files:\n",
    "    for i, bright_file in enumerate(directory[0::2]):\n",
    "    \n",
    "        # Define the cell type, speed, and rock or not\n",
    "        if i <= 3:\n",
    "            cell_type = 'HeLa'\n",
    "        else:\n",
    "            cell_type = '293T'\n",
    "        if i <= 1:\n",
    "            speed_type = 'Slow'\n",
    "        else:\n",
    "            speed_type = 'Fast'\n",
    "        if i % 2 == 0:\n",
    "            rock_type = False\n",
    "        else:\n",
    "            rock_type = True\n",
    "    \n",
    "        # Shift the index and define the bright and gfp images\n",
    "        index = i * 2\n",
    "        bright_file = bright_file\n",
    "        gfp_file = directory[index+1]\n",
    "    \n",
    "        # Initialize the droplet object\n",
    "        temp_droplet_image = micro.BulkDroplet(bright_file, multi_channel=True)\n",
    "    \n",
    "        # Define the regions of the droplets\n",
    "        temp_droplet_labeled, temp_droplet_props = temp_droplet_image.droplet_segment(testing=False)\n",
    "    \n",
    "        # Define the cell attributes of the droplets\n",
    "        droplet_cells_list, gfp_droplets = micro.cell_bright_gfp_thresh(temp_droplet_labeled, \n",
    "                                                              temp_droplet_props,\n",
    "                                                              bright_file,\n",
    "                                                              gfp_file)\n",
    "        #print(micro.diff_cells(droplet_cells_list[0])[0].max())\n",
    "    \n",
    "        # Define the number of brightfield and gfp cells\n",
    "        all_cells = [micro.diff_cells(x)[0].max() for x in droplet_cells_list]\n",
    "        dead_cells = [micro.diff_cells(x)[0].max() for x in gfp_droplets]\n",
    "    \n",
    "        # Make sure that all the lists are the same length\n",
    "        if len(temp_droplet_props) == len(all_cells) == len(dead_cells):\n",
    "            for j, droplet in enumerate(temp_droplet_props):\n",
    "                cell.append(cell_type)\n",
    "                speed.append(speed_type)\n",
    "                rock.append(rock_type)\n",
    "                droplet_area.append(droplet.area)\n",
    "                num_cells.append(all_cells[j])\n",
    "                num_dead.append(dead_cells[j])\n",
    "        else:\n",
    "            print('Set %d has %d droplets, %d cell regions, and %d dead cell regions'\n",
    "                  % (i, len(temp_droplet_props), len(all_cells), len(dead_cells)))"
   ]
  },
  {
   "cell_type": "code",
   "execution_count": 71,
   "metadata": {},
   "outputs": [],
   "source": [
    "# Create the pandas dictionary\n",
    "column_names = ['cell', 'speed', 'rock', 'droplet_area', 'num_cells', 'num_dead']\n",
    "column_data = zip(column_names, [cell, \n",
    "                                 speed, \n",
    "                                 rock, \n",
    "                                 droplet_area, \n",
    "                                 num_cells, \n",
    "                                 num_dead])\n",
    "dataframe_data = dict(column_data)\n",
    "initial_cell_data = pd.DataFrame(dataframe_data)"
   ]
  },
  {
   "cell_type": "code",
   "execution_count": 72,
   "metadata": {},
   "outputs": [
    {
     "data": {
      "text/plain": [
       "{'29T', 'HeLa'}"
      ]
     },
     "execution_count": 72,
     "metadata": {},
     "output_type": "execute_result"
    }
   ],
   "source": [
    "set(list(initial_cell_data.cell))"
   ]
  },
  {
   "cell_type": "code",
   "execution_count": null,
   "metadata": {},
   "outputs": [],
   "source": []
  }
 ],
 "metadata": {
  "kernelspec": {
   "display_name": "Python 2",
   "language": "python",
   "name": "python2"
  },
  "language_info": {
   "codemirror_mode": {
    "name": "ipython",
    "version": 2
   },
   "file_extension": ".py",
   "mimetype": "text/x-python",
   "name": "python",
   "nbconvert_exporter": "python",
   "pygments_lexer": "ipython2",
   "version": "2.7.6"
  }
 },
 "nbformat": 4,
 "nbformat_minor": 0
}
