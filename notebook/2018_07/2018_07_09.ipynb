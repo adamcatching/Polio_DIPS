{
 "cells": [
  {
   "cell_type": "markdown",
   "metadata": {},
   "source": [
    "# 9th of July, 2018\n",
    "## Benjamin Adam Catching\n",
    "## Andino Lab Rotation\n",
    "## Poliovirus DIP Project"
   ]
  },
  {
   "cell_type": "markdown",
   "metadata": {},
   "source": [
    "Today the two goals are to:  \n",
    "* Begin the processing pipeline of mouse video  \n",
    "    - Convert data from .h264 to .h5 (ask Tom if data can be directly converted)  \n",
    "    - Extract characteristics from mice (look to the Kokel lab for what has been done)  \n",
    "* Finalize analysis of CirSeq data  \n",
    "    - Extract any useful mutants (filter the non-mutants from Friday's data)  \n",
    "    - If any useful mutants exist, analysis"
   ]
  },
  {
   "cell_type": "markdown",
   "metadata": {},
   "source": []
  }
 ],
 "metadata": {
  "kernelspec": {
   "display_name": "Python 3",
   "language": "python",
   "name": "python3"
  },
  "language_info": {
   "codemirror_mode": {
    "name": "ipython",
    "version": 3
   },
   "file_extension": ".py",
   "mimetype": "text/x-python",
   "name": "python",
   "nbconvert_exporter": "python",
   "pygments_lexer": "ipython3",
   "version": "3.6.3"
  }
 },
 "nbformat": 4,
 "nbformat_minor": 2
}
