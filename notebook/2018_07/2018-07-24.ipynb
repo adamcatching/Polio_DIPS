{
 "cells": [
  {
   "cell_type": "markdown",
   "metadata": {
    "collapsed": true
   },
   "source": [
    "# July 24th, 2018\n",
    "## Benjamin Adam Catching\n",
    "## Andino Lab, Summer Rotation\n",
    "## Polio DIPs Project"
   ]
  },
  {
   "cell_type": "markdown",
   "metadata": {},
   "source": [
    "Continue working on the mice_video script. Get mouse segmentation automated."
   ]
  },
  {
   "cell_type": "code",
   "execution_count": 1,
   "metadata": {
    "collapsed": true
   },
   "outputs": [],
   "source": [
    "# Import necessary packages\n",
    "import numpy as np\n",
    "import matplotlib.pyplot as plt\n",
    "import glob"
   ]
  },
  {
   "cell_type": "code",
   "execution_count": 2,
   "metadata": {
    "collapsed": true
   },
   "outputs": [],
   "source": [
    "# Import the mice segmentation script\n",
    "from tools import mice_video"
   ]
  },
  {
   "cell_type": "code",
   "execution_count": 3,
   "metadata": {
    "collapsed": true
   },
   "outputs": [],
   "source": [
    "# Directory of mice videos\n",
    "mice_vid_dir = 'data/mouse_videos/'"
   ]
  },
  {
   "cell_type": "code",
   "execution_count": 4,
   "metadata": {
    "collapsed": true
   },
   "outputs": [],
   "source": [
    "# Get all videos in the directory\n",
    "mice_videos = glob.glob(mice_vid_dir + '*.h264')"
   ]
  },
  {
   "cell_type": "code",
   "execution_count": 5,
   "metadata": {},
   "outputs": [
    {
     "data": {
      "text/plain": [
       "['data/mouse_videos/Test3_2black_rr.h264']"
      ]
     },
     "execution_count": 5,
     "metadata": {},
     "output_type": "execute_result"
    }
   ],
   "source": [
    "# Look at the contents of mice_videos\n",
    "mice_videos"
   ]
  },
  {
   "cell_type": "code",
   "execution_count": 6,
   "metadata": {
    "collapsed": true
   },
   "outputs": [],
   "source": [
    "# Test to make the mice_video object\n",
    "K = np.array([[1000.0, 0.0, 910.0],\n",
    "          [0., 1000.0, 100.0],\n",
    "          [0.0, 0.0, 1.0]])\n",
    "D = np.array([np.array([[0.00001], \n",
    "                        [0.31307765215775184], \n",
    "                        [-0.4104704724832258], \n",
    "                        [0.15343014605793324]])])\n",
    "test_mouse_video = mice_video.MouseVideoProcess(mice_videos[0], \n",
    "                                                num_frames=1440, \n",
    "                                                distort_param=[K, D])"
   ]
  },
  {
   "cell_type": "code",
   "execution_count": 8,
   "metadata": {
    "collapsed": true
   },
   "outputs": [],
   "source": [
    "# Make segmented images\n",
    "test_mouse_segment = test_mouse_video.rough_segment()"
   ]
  },
  {
   "cell_type": "code",
   "execution_count": 16,
   "metadata": {},
   "outputs": [
    {
     "data": {
      "image/png": "[encoded data removed]",
      "text/plain": [
       "<Figure size 432x288 with 1 Axes>"
      ]
     },
     "metadata": {},
     "output_type": "display_data"
    }
   ],
   "source": [
    "test_frame = test_mouse_segment[600]\n",
    "plt.imshow(test_frame.T)\n",
    "plt.show()"
   ]
  },
  {
   "cell_type": "markdown",
   "metadata": {},
   "source": [
    "The time and memory used to create the segmented images may make this method unusable. Perhaps saving the images to files and dumping the image memory after each segmentation would be a more efficient way to process the images."
   ]
  },
  {
   "cell_type": "code",
   "execution_count": 17,
   "metadata": {
    "collapsed": true
   },
   "outputs": [],
   "source": [
    "# Save images\n",
    "import scipy.misc\n",
    "for i, frame in enumerate(test_mouse_segment):\n",
    "    # Create num string\n",
    "    str_num = str(i)\n",
    "    str_num_len = len(str_num)\n",
    "    new_str_num = '0' * (4 - str_num_len) + str_num\n",
    "    file_name = 'data/mouse_videos/thresh_video/seg_mice' + new_str_num + '.png'\n",
    "    scipy.misc.imsave(file_name, frame)"
   ]
  },
  {
   "cell_type": "code",
   "execution_count": null,
   "metadata": {
    "collapsed": true
   },
   "outputs": [],
   "source": []
  }
 ],
 "metadata": {
  "kernelspec": {
   "display_name": "Python 2",
   "language": "python",
   "name": "python2"
  },
  "language_info": {
   "codemirror_mode": {
    "name": "ipython",
    "version": 2
   },
   "file_extension": ".py",
   "mimetype": "text/x-python",
   "name": "python",
   "nbconvert_exporter": "python",
   "pygments_lexer": "ipython2",
   "version": "2.7.14"
  }
 },
 "nbformat": 4,
 "nbformat_minor": 1
}
