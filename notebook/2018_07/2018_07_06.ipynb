{
 "cells": [
  {
   "cell_type": "markdown",
   "metadata": {},
   "source": [
    "# 6th of July, 2018\n",
    "## Benjamin Adam Catching\n",
    "## Andino Lab Rotation\n",
    "## Poliovirus DIP Project"
   ]
  },
  {
   "cell_type": "markdown",
   "metadata": {},
   "source": [
    "As the consensus sequence are all the same (expected), the data that should be looked at are the secondary mutations. These are not as high in frequency. As the consensus does not change, this makes it easier to ca"
   ]
  },
  {
   "cell_type": "code",
   "execution_count": 1,
   "metadata": {
    "collapsed": true
   },
   "outputs": [],
   "source": [
    "# Import the usual packages for bioinformatic analysis\n",
    "import numpy as np\n",
    "import matplotlib.pyplot as plt\n",
    "import os\n",
    "from Bio import Seq, SeqIO\n",
    "import glob\n",
    "import pandas as pd\n",
    "import seaborn as sns\n",
    "import skbio"
   ]
  },
  {
   "cell_type": "code",
   "execution_count": 47,
   "metadata": {},
   "outputs": [
    {
     "data": {
      "text/plain": [
       "['../../data/sequence/Cirseq/PV_replicates_1/p1/Q20threshold.txt',\n",
       " '../../data/sequence/Cirseq/PV_replicates_1/p2/Q20threshold.txt',\n",
       " '../../data/sequence/Cirseq/PV_replicates_1/p3/Q20threshold.txt',\n",
       " '../../data/sequence/Cirseq/PV_replicates_1/p4/Q20threshold.txt',\n",
       " '../../data/sequence/Cirseq/PV_replicates_1/p5/Q20threshold.txt',\n",
       " '../../data/sequence/Cirseq/PV_replicates_1/p6/Q20threshold.txt',\n",
       " '../../data/sequence/Cirseq/PV_replicates_1/p7/Q20threshold.txt']"
      ]
     },
     "execution_count": 47,
     "metadata": {},
     "output_type": "execute_result"
    }
   ],
   "source": [
    "# Import the passage files\n",
    "pv1_passage_rep_1_file_names = '../../data/sequence/Cirseq/PV_replicates_1/*/Q20*'\n",
    "pv1_passage_rep_1_files = sorted(glob.glob(pv1_passage_rep_1_file_names))\n",
    "\n",
    "pv1_passage_rep_2_file_names = '../../data/sequence/Cirseq/PV_replicates_2/*/Q20*'\n",
    "pv1_passage_rep_2_files = sorted(glob.glob(pv1_passage_rep_2_file_names))\n",
    "\n",
    "pv1_passage_rep_1_files"
   ]
  },
  {
   "cell_type": "code",
   "execution_count": 3,
   "metadata": {
    "collapsed": true
   },
   "outputs": [],
   "source": [
    "# Go through each series of passages and find how the consensus sequence changes over each iteration\n",
    "rep_1_sequences = []\n",
    "\n",
    "for file in pv1_passage_rep_1_files:\n",
    "    # Read a test file into a pandas dataframe\n",
    "    test_df = pd.read_csv(pv1_passage_rep_1_files[0], delimiter='\\t', header=None)\n",
    "    # Set the position as the index\n",
    "    test_df = test_df.set_index(0)\n",
    "    # Rename the columns\n",
    "    test_df = test_df.rename(columns={1: 'Consensus', 2: 'A', 3:'C', 4:'G', 5:'T'})\n",
    "    # Return the consensus sequence as a Bio.Seq object\n",
    "    temp_seq = skbio.DNA(test_df.sum(axis=0)[0])\n",
    "    rep_1_sequences.append(temp_seq)\n",
    "    \n",
    "# Go through each series of passages and find how the consensus sequence changes over each iteration\n",
    "rep_2_sequences = []\n",
    "\n",
    "for file in pv1_passage_rep_1_files:\n",
    "    # Read a test file into a pandas dataframe\n",
    "    test_df = pd.read_csv(pv1_passage_rep_2_files[0], delimiter='\\t', header=None)\n",
    "    # Set the position as the index\n",
    "    test_df = test_df.set_index(0)\n",
    "    # Rename the columns\n",
    "    test_df = test_df.rename(columns={1: 'Consensus', 2: 'A', 3:'C', 4:'G', 5:'T'})\n",
    "    # Return the consensus sequence as a Bio.Seq object\n",
    "    temp_seq = skbio.DNA(test_df.sum(axis=0)[0])\n",
    "    rep_2_sequences.append(temp_seq)"
   ]
  },
  {
   "cell_type": "code",
   "execution_count": 8,
   "metadata": {},
   "outputs": [
    {
     "data": {
      "text/html": [
       "<div>\n",
       "<style>\n",
       "    .dataframe thead tr:only-child th {\n",
       "        text-align: right;\n",
       "    }\n",
       "\n",
       "    .dataframe thead th {\n",
       "        text-align: left;\n",
       "    }\n",
       "\n",
       "    .dataframe tbody tr th {\n",
       "        vertical-align: top;\n",
       "    }\n",
       "</style>\n",
       "<table border=\"1\" class=\"dataframe\">\n",
       "  <thead>\n",
       "    <tr style=\"text-align: right;\">\n",
       "      <th></th>\n",
       "      <th>Consensus</th>\n",
       "      <th>A</th>\n",
       "      <th>C</th>\n",
       "      <th>G</th>\n",
       "      <th>T</th>\n",
       "    </tr>\n",
       "    <tr>\n",
       "      <th>0</th>\n",
       "      <th></th>\n",
       "      <th></th>\n",
       "      <th></th>\n",
       "      <th></th>\n",
       "      <th></th>\n",
       "    </tr>\n",
       "  </thead>\n",
       "  <tbody>\n",
       "    <tr>\n",
       "      <th>1</th>\n",
       "      <td>T</td>\n",
       "      <td>0</td>\n",
       "      <td>0</td>\n",
       "      <td>0</td>\n",
       "      <td>126</td>\n",
       "    </tr>\n",
       "    <tr>\n",
       "      <th>2</th>\n",
       "      <td>T</td>\n",
       "      <td>0</td>\n",
       "      <td>0</td>\n",
       "      <td>0</td>\n",
       "      <td>198</td>\n",
       "    </tr>\n",
       "    <tr>\n",
       "      <th>3</th>\n",
       "      <td>A</td>\n",
       "      <td>283</td>\n",
       "      <td>0</td>\n",
       "      <td>0</td>\n",
       "      <td>0</td>\n",
       "    </tr>\n",
       "    <tr>\n",
       "      <th>4</th>\n",
       "      <td>A</td>\n",
       "      <td>522</td>\n",
       "      <td>0</td>\n",
       "      <td>0</td>\n",
       "      <td>0</td>\n",
       "    </tr>\n",
       "    <tr>\n",
       "      <th>5</th>\n",
       "      <td>A</td>\n",
       "      <td>957</td>\n",
       "      <td>0</td>\n",
       "      <td>0</td>\n",
       "      <td>0</td>\n",
       "    </tr>\n",
       "  </tbody>\n",
       "</table>\n",
       "</div>"
      ],
      "text/plain": [
       "  Consensus    A  C  G    T\n",
       "0                          \n",
       "1         T    0  0  0  126\n",
       "2         T    0  0  0  198\n",
       "3         A  283  0  0    0\n",
       "4         A  522  0  0    0\n",
       "5         A  957  0  0    0"
      ]
     },
     "execution_count": 8,
     "metadata": {},
     "output_type": "execute_result"
    }
   ],
   "source": [
    "# From the nucleotide sequence, find the domain of the polyprotein and extract \n",
    "# a dictionary for each position\n",
    "\n",
    "\n",
    "# Read a test file into a pandas dataframe\n",
    "test_df = pd.read_csv(pv1_passage_rep_1_files[0], delimiter='\\t', header=None)\n",
    "# Set the position as the index\n",
    "test_df = test_df.set_index(0)\n",
    "# Rename the columns\n",
    "test_df = test_df.rename(columns={1: 'Consensus', 2: 'A', 3:'C', 4:'G', 5:'T'})\n",
    "# Show the first few rows\n",
    "test_df.head()"
   ]
  },
  {
   "cell_type": "code",
   "execution_count": 9,
   "metadata": {},
   "outputs": [
    {
     "data": {
      "text/html": [
       "<div>\n",
       "<style>\n",
       "    .dataframe thead tr:only-child th {\n",
       "        text-align: right;\n",
       "    }\n",
       "\n",
       "    .dataframe thead th {\n",
       "        text-align: left;\n",
       "    }\n",
       "\n",
       "    .dataframe tbody tr th {\n",
       "        vertical-align: top;\n",
       "    }\n",
       "</style>\n",
       "<table border=\"1\" class=\"dataframe\">\n",
       "  <thead>\n",
       "    <tr style=\"text-align: right;\">\n",
       "      <th></th>\n",
       "      <th>Consensus</th>\n",
       "      <th>A</th>\n",
       "      <th>C</th>\n",
       "      <th>G</th>\n",
       "      <th>T</th>\n",
       "      <th>Total_counts</th>\n",
       "    </tr>\n",
       "    <tr>\n",
       "      <th>0</th>\n",
       "      <th></th>\n",
       "      <th></th>\n",
       "      <th></th>\n",
       "      <th></th>\n",
       "      <th></th>\n",
       "      <th></th>\n",
       "    </tr>\n",
       "  </thead>\n",
       "  <tbody>\n",
       "    <tr>\n",
       "      <th>1</th>\n",
       "      <td>T</td>\n",
       "      <td>0</td>\n",
       "      <td>0</td>\n",
       "      <td>0</td>\n",
       "      <td>126</td>\n",
       "      <td>126</td>\n",
       "    </tr>\n",
       "    <tr>\n",
       "      <th>2</th>\n",
       "      <td>T</td>\n",
       "      <td>0</td>\n",
       "      <td>0</td>\n",
       "      <td>0</td>\n",
       "      <td>198</td>\n",
       "      <td>198</td>\n",
       "    </tr>\n",
       "    <tr>\n",
       "      <th>3</th>\n",
       "      <td>A</td>\n",
       "      <td>283</td>\n",
       "      <td>0</td>\n",
       "      <td>0</td>\n",
       "      <td>0</td>\n",
       "      <td>283</td>\n",
       "    </tr>\n",
       "    <tr>\n",
       "      <th>4</th>\n",
       "      <td>A</td>\n",
       "      <td>522</td>\n",
       "      <td>0</td>\n",
       "      <td>0</td>\n",
       "      <td>0</td>\n",
       "      <td>522</td>\n",
       "    </tr>\n",
       "    <tr>\n",
       "      <th>5</th>\n",
       "      <td>A</td>\n",
       "      <td>957</td>\n",
       "      <td>0</td>\n",
       "      <td>0</td>\n",
       "      <td>0</td>\n",
       "      <td>957</td>\n",
       "    </tr>\n",
       "  </tbody>\n",
       "</table>\n",
       "</div>"
      ],
      "text/plain": [
       "  Consensus    A  C  G    T  Total_counts\n",
       "0                                        \n",
       "1         T    0  0  0  126           126\n",
       "2         T    0  0  0  198           198\n",
       "3         A  283  0  0    0           283\n",
       "4         A  522  0  0    0           522\n",
       "5         A  957  0  0    0           957"
      ]
     },
     "execution_count": 9,
     "metadata": {},
     "output_type": "execute_result"
    }
   ],
   "source": [
    "# Assign a new column that has the sum of the counts of each nucleotide\n",
    "test_df['Total_counts'] = test_df['A'] + test_df['C'] + test_df['G'] + test_df['T']\n",
    "test_df.head()"
   ]
  },
  {
   "cell_type": "code",
   "execution_count": 10,
   "metadata": {},
   "outputs": [
    {
     "data": {
      "text/html": [
       "<div>\n",
       "<style>\n",
       "    .dataframe thead tr:only-child th {\n",
       "        text-align: right;\n",
       "    }\n",
       "\n",
       "    .dataframe thead th {\n",
       "        text-align: left;\n",
       "    }\n",
       "\n",
       "    .dataframe tbody tr th {\n",
       "        vertical-align: top;\n",
       "    }\n",
       "</style>\n",
       "<table border=\"1\" class=\"dataframe\">\n",
       "  <thead>\n",
       "    <tr style=\"text-align: right;\">\n",
       "      <th></th>\n",
       "      <th>Consensus</th>\n",
       "      <th>A</th>\n",
       "      <th>C</th>\n",
       "      <th>G</th>\n",
       "      <th>T</th>\n",
       "      <th>Total_counts</th>\n",
       "      <th>A_prob</th>\n",
       "      <th>C_prob</th>\n",
       "      <th>G_prob</th>\n",
       "      <th>T_prob</th>\n",
       "    </tr>\n",
       "    <tr>\n",
       "      <th>0</th>\n",
       "      <th></th>\n",
       "      <th></th>\n",
       "      <th></th>\n",
       "      <th></th>\n",
       "      <th></th>\n",
       "      <th></th>\n",
       "      <th></th>\n",
       "      <th></th>\n",
       "      <th></th>\n",
       "      <th></th>\n",
       "    </tr>\n",
       "  </thead>\n",
       "  <tbody>\n",
       "    <tr>\n",
       "      <th>1</th>\n",
       "      <td>T</td>\n",
       "      <td>0</td>\n",
       "      <td>0</td>\n",
       "      <td>0</td>\n",
       "      <td>126</td>\n",
       "      <td>126</td>\n",
       "      <td>0.0</td>\n",
       "      <td>0.0</td>\n",
       "      <td>0.0</td>\n",
       "      <td>100.0</td>\n",
       "    </tr>\n",
       "    <tr>\n",
       "      <th>2</th>\n",
       "      <td>T</td>\n",
       "      <td>0</td>\n",
       "      <td>0</td>\n",
       "      <td>0</td>\n",
       "      <td>198</td>\n",
       "      <td>198</td>\n",
       "      <td>0.0</td>\n",
       "      <td>0.0</td>\n",
       "      <td>0.0</td>\n",
       "      <td>100.0</td>\n",
       "    </tr>\n",
       "    <tr>\n",
       "      <th>3</th>\n",
       "      <td>A</td>\n",
       "      <td>283</td>\n",
       "      <td>0</td>\n",
       "      <td>0</td>\n",
       "      <td>0</td>\n",
       "      <td>283</td>\n",
       "      <td>100.0</td>\n",
       "      <td>0.0</td>\n",
       "      <td>0.0</td>\n",
       "      <td>0.0</td>\n",
       "    </tr>\n",
       "    <tr>\n",
       "      <th>4</th>\n",
       "      <td>A</td>\n",
       "      <td>522</td>\n",
       "      <td>0</td>\n",
       "      <td>0</td>\n",
       "      <td>0</td>\n",
       "      <td>522</td>\n",
       "      <td>100.0</td>\n",
       "      <td>0.0</td>\n",
       "      <td>0.0</td>\n",
       "      <td>0.0</td>\n",
       "    </tr>\n",
       "    <tr>\n",
       "      <th>5</th>\n",
       "      <td>A</td>\n",
       "      <td>957</td>\n",
       "      <td>0</td>\n",
       "      <td>0</td>\n",
       "      <td>0</td>\n",
       "      <td>957</td>\n",
       "      <td>100.0</td>\n",
       "      <td>0.0</td>\n",
       "      <td>0.0</td>\n",
       "      <td>0.0</td>\n",
       "    </tr>\n",
       "  </tbody>\n",
       "</table>\n",
       "</div>"
      ],
      "text/plain": [
       "  Consensus    A  C  G    T  Total_counts  A_prob  C_prob  G_prob  T_prob\n",
       "0                                                                        \n",
       "1         T    0  0  0  126           126     0.0     0.0     0.0   100.0\n",
       "2         T    0  0  0  198           198     0.0     0.0     0.0   100.0\n",
       "3         A  283  0  0    0           283   100.0     0.0     0.0     0.0\n",
       "4         A  522  0  0    0           522   100.0     0.0     0.0     0.0\n",
       "5         A  957  0  0    0           957   100.0     0.0     0.0     0.0"
      ]
     },
     "execution_count": 10,
     "metadata": {},
     "output_type": "execute_result"
    }
   ],
   "source": [
    "# Create columns that have the probability for each nucleotide\n",
    "test_df['A_prob'] = test_df['A'] / test_df['Total_counts'] * 100\n",
    "test_df['C_prob'] = test_df['C'] / test_df['Total_counts'] * 100\n",
    "test_df['G_prob'] = test_df['G'] / test_df['Total_counts'] * 100\n",
    "test_df['T_prob'] = test_df['T'] / test_df['Total_counts'] * 100\n",
    "\n",
    "test_df.head()"
   ]
  },
  {
   "cell_type": "markdown",
   "metadata": {},
   "source": [
    "The start sequence is 742, and the first stop codon appears at position 6639."
   ]
  },
  {
   "cell_type": "code",
   "execution_count": 19,
   "metadata": {},
   "outputs": [],
   "source": [
    "test_con_seq = test_df.sum(axis=0)[0]"
   ]
  },
  {
   "cell_type": "code",
   "execution_count": 50,
   "metadata": {},
   "outputs": [],
   "source": [
    "test_polyprotein = test_con_seq[742:6639]"
   ]
  },
  {
   "cell_type": "code",
   "execution_count": 51,
   "metadata": {},
   "outputs": [
    {
     "name": "stderr",
     "output_type": "stream",
     "text": [
      "/Users/adam/anaconda/lib/python3.6/site-packages/Bio/Seq.py:2309: BiopythonWarning: Partial codon, len(sequence) not a multiple of three. Explicitly trim the sequence or add trailing N before translation. This may become an error in future.\n",
      "  BiopythonWarning)\n"
     ]
    }
   ],
   "source": [
    "for index in range(0, len(test_polyprotein), 3):\n",
    "    #print(Seq.Seq(test_polyprotein[index:index+3]).translate())\n",
    "    if Seq.Seq(test_polyprotein[index:index+3]).translate() == '*':\n",
    "        print(index)\n",
    "        print(test_polyprotein[index:index+3])"
   ]
  },
  {
   "cell_type": "code",
   "execution_count": 52,
   "metadata": {},
   "outputs": [
    {
     "name": "stderr",
     "output_type": "stream",
     "text": [
      "/Users/adam/anaconda/lib/python3.6/site-packages/Bio/Seq.py:2309: BiopythonWarning: Partial codon, len(sequence) not a multiple of three. Explicitly trim the sequence or add trailing N before translation. This may become an error in future.\n",
      "  BiopythonWarning)\n"
     ]
    },
    {
     "data": {
      "text/plain": [
       "'MGAQVSSQKVGAHENSNRAYGGSTINYTTINYYRDSASNAASKQDFSQDPSKFTEPIKDVLIKTAPMLNSPNIEACGYSDRVLQLTLGNSTITTQEAANSVVAYGRWPEYLRDSEANPVDQPTEPDVAACRFYTLDTVSWTKESRGWWWKLPDALRDMGLFGQNMYYHYLGRSGYTVHVQCNASKFHQGALGVFAVPEMCLAGDSNTTTMHTSYQNANPGEKGGTFTGTFTPDNNQTSPARRFCPVDYLLGNGTLLGNAFVFPHQIINLRTNNCATLVLPYVNSLSIDSMVKHNNWGIAILPLAPLNFASESSPEIPITLTIAPMCCEFNGLRNITLPRLQGLPVMNTPGSNQYLTADNFQSPCALPEFDVTPPIDIPGEVKNMMELAEIDTMIPFDLSATKKNTMEMYRVRLSDKPHTDDPILCLSLSPASDPRLSHTMLGEILNYYTHWAGSLKFTFLFCGFMMATGKLLVSYAPPGADPPKKRKEAMLGTHVIWDIGLQSSCTMVVPWISNTTYRQTIDDSFTEGGYISVFYQTRIVVPLSTPREMDILGFVSACNDFSVRLLRDTTHIEQKALAQGLGQMLESMIDNTVRETVGAATSRDALPNTEASGPTHSKEIPALTAVETGATNPLVPSDTVQTRHVVQHRSRSESSIESFFARGACVTIMTVDNPASTTNKDKLFAVWKITYKDTVQLRRKLEFFTYSRFDMELTFVVTANFTETNNGHALNQVYQIMYVPPGAPVPEKWDDYTWQTSSNPSIFYTYGTAPARISVPYVGISNAYSHFYDGFSKVPLKDQSAALGDSLYGAASLNDFGILAVRVVNDHNPTKVTSKIRVYLKPKHIRVWCPRPPRAVAYYGPGVDYKDGTLTPLSTKDLTTYGFGHQNKAVYTAGYKICNYHLATQDDLQNAVNVMWSRDLLVTESRAQGTDSIARCNCNAGVYYCESRRKYYPVSFVGPTFQYMEANNYYPARYQSHMLIGHGFASPGDCGGILRCHHGVIGIITAGGEGLVAFSDIRDLYAYEEEAMEQGITNYIESLGAAFGSGFTQQISDKITELTNMVTSTITEKLLKNLIKIISSLVIITRNYEDTTTVLATLALLGCDASPWQWLRKKACDVLEIPYVIKQGDSWLKKFTEACNAAKGLEWVSNKISKFIDWLKEKIIPQARDKLEFVTKLRQLEMLENQISTIHQSCPSQEHQEILFNNVRWLSIQSKRFAPLYAVEAKRIQKLEHTINNYIQFKSKHRIEPVCLLVHGSPGTGKSVATNLIARAIAERENTSTYSLPPDPSHFDGYKQQGVVIMDDLNQNPDGADMKLFCQMVSTVEFIPPMASLEEKGILFTSNYVLASTNSSRISPPTVAHSDALARRFAFDMDIQVMNEYSRDGKLNMAMATEMCKNCHQPANFKRCCPLVCGKAIQLMDKSSRVRYSIDQITTMIINERNRRSNIGNCMEALFQGPLQYKDLKIDIKTSPPPECINDLLQAVDSQEVRDYCEKKGWIVNITSQVQTERNINRAMTILQAVTTFAAVAGVVYVMYKLFAGHQGAYTGLPNKKPNVPTIRTAKVQGPGFDYAVAMAKRNIVTATTSKGEFTMLGVHDNVAILPTHASPGESIVIDGKEVEILDAKALEDQAGTNLEITIITLKRNEKFRDIRPHIPTQITETNDGVLIVNTSKYPNMYVPVGAVTEQGYLNLGGRQTARTLMYNFPTRAGQCGGVITCTGKVIGMHVGGNGSHGFAAALKRSYFTQSQGEIQWMRPSKEVGYPIINAPSKTKLEPSAFHYVFEGVKEPAVLTKNDPRLKTDFEEAIFSKYVGNKITEVDEYMKEAVDHYAGQLMSLDINTEQMCLEDAMYGTDGLEALDLSTSAGYPYVAMGKKKRDILNKQTRDTKEMQKLLDTYGINLPLVTYVKDELRSKTKVEQGKSRLIEASSLNDSVAMRMAFGNLYAAFHKNPGVITGSAVGCDPDLF'"
      ]
     },
     "execution_count": 52,
     "metadata": {},
     "output_type": "execute_result"
    }
   ],
   "source": [
    "test_polyprotein = test_con_seq[742:6639]\n",
    "str(Seq.Seq(test_polyprotein).translate())"
   ]
  },
  {
   "cell_type": "code",
   "execution_count": 53,
   "metadata": {},
   "outputs": [],
   "source": [
    "test_polyprotein = test_df.iloc[742:6639]"
   ]
  },
  {
   "cell_type": "code",
   "execution_count": 63,
   "metadata": {},
   "outputs": [],
   "source": [
    "# Create function that reads in Q20 file and outputs a pandas dataframe \n",
    "def q20_dataframe(filename):\n",
    "    \"\"\"From a Q20 file return dataframe with frequency of each nucleotide\"\"\"\n",
    "    \n",
    "    # Read a test file into a pandas dataframe\n",
    "    temp_df = pd.read_csv(filename, delimiter='\\t', header=None)\n",
    "    # Set the position as the index\n",
    "    temp_df = temp_df.set_index(0)\n",
    "    # Rename the columns\n",
    "    temp_df = temp_df.rename(columns={1: 'Consensus', 2: 'A', 3:'C', 4:'G', 5:'T'})\n",
    "    # Assign a new column that has the sum of the counts of each nucleotide\n",
    "    temp_df['Total_counts'] = temp_df['A'] + temp_df['C'] + temp_df['G'] + temp_df['T']\n",
    "    # Create columns that have the probability for each nucleotide\n",
    "    temp_df['A_prob'] = temp_df['A'] / temp_df['Total_counts'] * 100\n",
    "    temp_df['C_prob'] = temp_df['C'] / temp_df['Total_counts'] * 100\n",
    "    temp_df['G_prob'] = temp_df['G'] / temp_df['Total_counts'] * 100\n",
    "    temp_df['T_prob'] = temp_df['T'] / temp_df['Total_counts'] * 100\n",
    "    \n",
    "    return temp_df.iloc[742:6639]"
   ]
  },
  {
   "cell_type": "code",
   "execution_count": 64,
   "metadata": {},
   "outputs": [],
   "source": [
    "df_polyprotein_1 = q20_dataframe(pv1_passage_rep_1_files[0])\n",
    "df_polyprotein_2 = q20_dataframe(pv1_passage_rep_1_files[1])"
   ]
  },
  {
   "cell_type": "code",
   "execution_count": 83,
   "metadata": {},
   "outputs": [
    {
     "name": "stdout",
     "output_type": "stream",
     "text": [
      "0.999862134395\n",
      "Absolute fitness of A is:  0.910355231345\n",
      "Absolute fitness of C is:  3.0\n",
      "Absolute fitness of G is:  1.27272727273\n",
      "Absolute fitness of T is:  nan\n"
     ]
    },
    {
     "name": "stderr",
     "output_type": "stream",
     "text": [
      "/Users/adam/anaconda/lib/python3.6/site-packages/ipykernel_launcher.py:13: RuntimeWarning: invalid value encountered in long_scalars\n",
      "  del sys.path[0]\n"
     ]
    }
   ],
   "source": [
    "# Find the fitness of each allele for the first row\n",
    "test_row_1 = df_polyprotein_1.iloc[0]\n",
    "test_row_2 = df_polyprotein_2.iloc[0]\n",
    "\n",
    "print(test_row_2['A_prob'] / test_row_1['A_prob'])\n",
    "# Fitness of A\n",
    "print(\"Absolute fitness of A is: \", test_row_2['A'] / test_row_1['A'])\n",
    "# Fitness of C\n",
    "print(\"Absolute fitness of C is: \", test_row_2['C'] / test_row_1['C'])\n",
    "# Fitness of G\n",
    "print(\"Absolute fitness of G is: \", test_row_2['G'] / test_row_1['G'])\n",
    "# Fitness of T\n",
    "print(\"Absolute fitness of T is: \", test_row_2['T'] / test_row_1['T'])"
   ]
  },
  {
   "cell_type": "code",
   "execution_count": 116,
   "metadata": {
    "collapsed": true
   },
   "outputs": [],
   "source": [
    "#test_fitness = pd.DataFrame(index=index, columns=df_polyprotein_1['A_prob']/df_polyprotein_2['A_prob'])\n",
    "test_fitness = pd.DataFrame(df_polyprotein_2['A_prob']/df_polyprotein_1['A_prob'])\n",
    "test_fitness.columns = ['A_fitness']\n",
    "\n",
    "test_fitness['C_fitness'] = df_polyprotein_2['C_prob'] / df_polyprotein_1['C_prob']\n",
    "test_fitness['G_fitness'] = df_polyprotein_2['G_prob'] / df_polyprotein_1['G_prob']\n",
    "test_fitness['T_fitness'] = df_polyprotein_2['T_prob'] / df_polyprotein_1['T_prob']"
   ]
  },
  {
   "cell_type": "code",
   "execution_count": 117,
   "metadata": {},
   "outputs": [
    {
     "data": {
      "text/html": [
       "<div>\n",
       "<style>\n",
       "    .dataframe thead tr:only-child th {\n",
       "        text-align: right;\n",
       "    }\n",
       "\n",
       "    .dataframe thead th {\n",
       "        text-align: left;\n",
       "    }\n",
       "\n",
       "    .dataframe tbody tr th {\n",
       "        vertical-align: top;\n",
       "    }\n",
       "</style>\n",
       "<table border=\"1\" class=\"dataframe\">\n",
       "  <thead>\n",
       "    <tr style=\"text-align: right;\">\n",
       "      <th></th>\n",
       "      <th>A_fitness</th>\n",
       "      <th>C_fitness</th>\n",
       "      <th>G_fitness</th>\n",
       "      <th>T_fitness</th>\n",
       "    </tr>\n",
       "    <tr>\n",
       "      <th>0</th>\n",
       "      <th></th>\n",
       "      <th></th>\n",
       "      <th></th>\n",
       "      <th></th>\n",
       "    </tr>\n",
       "  </thead>\n",
       "  <tbody>\n",
       "    <tr>\n",
       "      <th>743</th>\n",
       "      <td>0.999862</td>\n",
       "      <td>3.294963</td>\n",
       "      <td>1.397863</td>\n",
       "      <td>NaN</td>\n",
       "    </tr>\n",
       "    <tr>\n",
       "      <th>744</th>\n",
       "      <td>1.088251</td>\n",
       "      <td>2.176501</td>\n",
       "      <td>NaN</td>\n",
       "      <td>0.999976</td>\n",
       "    </tr>\n",
       "    <tr>\n",
       "      <th>745</th>\n",
       "      <td>2.017188</td>\n",
       "      <td>1.000000</td>\n",
       "      <td>0.999999</td>\n",
       "      <td>0.000000</td>\n",
       "    </tr>\n",
       "    <tr>\n",
       "      <th>746</th>\n",
       "      <td>2.193375</td>\n",
       "      <td>1.000000</td>\n",
       "      <td>0.999892</td>\n",
       "      <td>0.487417</td>\n",
       "    </tr>\n",
       "    <tr>\n",
       "      <th>747</th>\n",
       "      <td>1.002223</td>\n",
       "      <td>1.000000</td>\n",
       "      <td>1.000021</td>\n",
       "      <td>0.000000</td>\n",
       "    </tr>\n",
       "  </tbody>\n",
       "</table>\n",
       "</div>"
      ],
      "text/plain": [
       "     A_fitness  C_fitness  G_fitness  T_fitness\n",
       "0                                              \n",
       "743   0.999862   3.294963   1.397863        NaN\n",
       "744   1.088251   2.176501        NaN   0.999976\n",
       "745   2.017188   1.000000   0.999999   0.000000\n",
       "746   2.193375   1.000000   0.999892   0.487417\n",
       "747   1.002223   1.000000   1.000021   0.000000"
      ]
     },
     "execution_count": 117,
     "metadata": {},
     "output_type": "execute_result"
    }
   ],
   "source": [
    "test_fitness = test_fitness.replace(np.inf, 1)\n",
    "test_fitness.head()\n",
    "#test_fitness.iloc[744]"
   ]
  },
  {
   "cell_type": "code",
   "execution_count": 119,
   "metadata": {},
   "outputs": [
    {
     "data": {
      "image/png": "[encoded data removed]",
      "text/plain": [
       "<Figure size 1800x720 with 20 Axes>"
      ]
     },
     "metadata": {},
     "output_type": "display_data"
    }
   ],
   "source": [
    "# Plot the probabilities\n",
    "fig, ax = plt.subplots(10, 1, figsize=(25, 10))\n",
    "c = sns.diverging_palette(220, 10, as_cmap=True)\n",
    "sns.heatmap(test_fitness[:200].T, ax=ax[0], center=1)#, cmap=c, square=False)\n",
    "sns.heatmap(test_fitness[201:400].T, ax=ax[1], center=1)#, cmap=c, square=False)\n",
    "sns.heatmap(test_fitness[401:600].T, ax=ax[2], center=1)#, cmap=c, square=False)\n",
    "sns.heatmap(test_fitness[601:800].T, ax=ax[3], center=1)#, cmap=c, square=False)\n",
    "sns.heatmap(test_fitness[801:1000].T, ax=ax[4], center=1)#, cmap=c, square=False)\n",
    "sns.heatmap(test_fitness[1000:1200].T, ax=ax[5], center=1)#, cmap=c, square=False)\n",
    "sns.heatmap(test_fitness[1201:1400].T, ax=ax[6], center=1)#, cmap=c, square=False)\n",
    "sns.heatmap(test_fitness[1401:1600].T, ax=ax[7], center=1)#, cmap=c, square=False)\n",
    "sns.heatmap(test_fitness[1601:1800].T, ax=ax[8], center=1)#, cmap=c, square=False)\n",
    "sns.heatmap(test_fitness[1801:2000].T, ax=ax[9], center=1)#, cmap=c, square=False)\n",
    "plt.show()"
   ]
  },
  {
   "cell_type": "code",
   "execution_count": 120,
   "metadata": {
    "collapsed": true
   },
   "outputs": [],
   "source": [
    "# Function that takes two dataframes and returns a dataframe of the fitness values\n",
    "def fitness_dataframe(df_1, df_2):\n",
    "    \"\"\"Return a dataframe of the absolute fitness values for each mutation\"\"\"\n",
    "    \n",
    "    #test_fitness = pd.DataFrame(index=index, columns=df_polyprotein_1['A_prob']/df_polyprotein_2['A_prob'])\n",
    "    temp_fitness = pd.DataFrame(df_2['A_prob'] / df_1['A_prob'])\n",
    "    temp_fitness.columns = ['A_fitness']\n",
    "\n",
    "    temp_fitness['C_fitness'] = df_2['C_prob'] / df_1['C_prob']\n",
    "    temp_fitness['G_fitness'] = df_2['G_prob'] / df_1['G_prob']\n",
    "    temp_fitness['T_fitness'] = df_2['T_prob'] / df_1['T_prob']\n",
    "    temp_fitness = temp_fitness.replace(np.inf, 1)\n",
    "    \n",
    "    return temp_fitness"
   ]
  },
  {
   "cell_type": "code",
   "execution_count": null,
   "metadata": {
    "collapsed": true
   },
   "outputs": [],
   "source": [
    "# Create all "
   ]
  }
 ],
 "metadata": {
  "kernelspec": {
   "display_name": "Python 3",
   "language": "python",
   "name": "python3"
  },
  "language_info": {
   "codemirror_mode": {
    "name": "ipython",
    "version": 3
   },
   "file_extension": ".py",
   "mimetype": "text/x-python",
   "name": "python",
   "nbconvert_exporter": "python",
   "pygments_lexer": "ipython3",
   "version": "3.6.3"
  }
 },
 "nbformat": 4,
 "nbformat_minor": 2
}
