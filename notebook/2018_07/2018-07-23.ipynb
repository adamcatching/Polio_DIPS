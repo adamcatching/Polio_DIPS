{
 "cells": [
  {
   "cell_type": "markdown",
   "metadata": {
    "collapsed": true
   },
   "source": [
    "# July 23rd, 2018\n",
    "## Benjamin Adam Catching\n",
    "## Andino Lab, Summer Rotation\n",
    "## Poliovirus DIPs Project"
   ]
  },
  {
   "cell_type": "markdown",
   "metadata": {},
   "source": [
    "Today it may be good to advance the mouse video detection script. This will involve:  \n",
    "1) Putting all prior code into a python script  \n",
    "2) Ensuring the current code is sufficient to work on most videos  \n",
    "3) Advance the mouse detection by adding \"memory\" to the video, correcting for blinking and non-mouse detection  \n",
    "4) If the image segmentation stabilizes and can be used for two to five mice per video, use the script to add recognition of 'barcoded' tails  "
   ]
  },
  {
   "cell_type": "markdown",
   "metadata": {},
   "source": [
    "The majority of code will be in the script in mice_video.py, this notebook will be the location of testing the script."
   ]
  },
  {
   "cell_type": "markdown",
   "metadata": {},
   "source": [
    "Revisiting the issue of creating shapes without awkward lines."
   ]
  },
  {
   "cell_type": "code",
   "execution_count": 1,
   "metadata": {
    "collapsed": true
   },
   "outputs": [],
   "source": [
    "# Import necessary packages\n",
    "import cv2\n",
    "assert cv2.__version__[0] == '3'\n",
    "import matplotlib.pyplot as plt\n",
    "import glob\n",
    "import skvideo.io\n",
    "import h5py\n",
    "import skimage.io\n",
    "from matplotlib.patches import Polygon\n",
    "from matplotlib.collections import PatchCollection\n",
    "import numpy as np\n",
    "from PIL import Image, ImageDraw"
   ]
  },
  {
   "cell_type": "code",
   "execution_count": 2,
   "metadata": {
    "collapsed": true
   },
   "outputs": [],
   "source": [
    "# Define the set of vertices\n",
    "# The location of the points are needed to generate the \n",
    "np_dot_list = np.array([\n",
    "    [(403, 803), (380, 738), (352, 665), (328, 593), (308, 510), (288, 419), (266, 320), (256, 218)],\n",
    "    [(465, 812), (442, 754), (418, 682), (394, 612), (364, 518), (348, 424), (338, 310), (321, 202)],\n",
    "    [(534, 838), (506, 778), (482, 702), (460, 622), (440, 526), (418, 424), (406, 310), (400, 188)],\n",
    "    [(610, 848), (586, 787), (564, 712), (548, 628), (530, 529), (506, 430), (486, 304), (486, 178)],\n",
    "    [(696, 868), (680, 804), (664, 720), (649, 641), (632, 538), (616, 432), (610, 300), (606, 164)],\n",
    "    [(780, 873), (774, 812), (766, 734), (754, 650), (746, 542), (734, 428), (728, 295), (728, 151)],\n",
    "    [(872, 880), (873, 820), (870, 738), (864, 657), (866, 550), (863, 430), (860, 295), (860, 146)],\n",
    "    [(972, 882), (978, 824), (980, 744), (984, 654), (992, 548), (1002, 432), (1008, 298), (1014, 149)],\n",
    "    [(1066, 880), (1078, 820), (1092, 739), (1106, 664), (1117, 548), (1130, 436), (1142, 302), (1154, 158)],\n",
    "    [(1156, 878), (1176, 814), (1196, 738), (1212, 660), (1234, 553), (1256, 438), (1270, 314), (1288, 172)]])"
   ]
  },
  {
   "cell_type": "code",
   "execution_count": 3,
   "metadata": {
    "collapsed": true
   },
   "outputs": [],
   "source": [
    "# Create a blank background to test the shape creation\n",
    "blank = np.zeros((1920, 1080))"
   ]
  },
  {
   "cell_type": "code",
   "execution_count": 4,
   "metadata": {},
   "outputs": [
    {
     "name": "stdout",
     "output_type": "stream",
     "text": [
      "((403, 803), (380, 738), (442, 754), (465, 812))\n"
     ]
    }
   ],
   "source": [
    "# Create temp list from which to create the shape\n",
    "np_temp_square = [\n",
    "    np_dot_list[0, 0],\n",
    "    np_dot_list[0, 1],\n",
    "    np_dot_list[1, 1],\n",
    "    np_dot_list[1, 0],\n",
    "    np_dot_list[0, 0]\n",
    "]\n",
    "temp_square = tuple(map(tuple, np_temp_square))\n",
    "print(temp_square[:4])"
   ]
  },
  {
   "cell_type": "code",
   "execution_count": 5,
   "metadata": {
    "collapsed": true
   },
   "outputs": [],
   "source": [
    "# Try creating a shape with PIL\n",
    "# Create blank, gray image\n",
    "img = Image.new('RGB', (1920, 1080), (125, 125, 125))\n",
    "# Go through vertices and create shapes\n",
    "for i in range(len(np_dot_list) - 1):\n",
    "    for j in range(len(np_dot_list[0]) - 1):\n",
    "        # Depending on the value of the iteration, choose the color\n",
    "        if (i+j) % 2 == 0:\n",
    "            color = (255, 255, 255)\n",
    "        else:\n",
    "            color = (0, 0, 0)\n",
    "        np_temp_square = [\n",
    "            np_dot_list[i, j],\n",
    "            np_dot_list[i+1, j],\n",
    "            np_dot_list[i+1, j+1],\n",
    "            np_dot_list[i, j+1]\n",
    "        ]\n",
    "        # Convert the list of numpy arrays to tuple of tuples\n",
    "        temp_square = tuple(map(tuple, np_temp_square))\n",
    "        # Draw the image\n",
    "        ImageDraw.Draw(img).polygon(temp_square[:4], outline=color, fill=color)\n",
    "        mask = np.array(img)"
   ]
  },
  {
   "cell_type": "code",
   "execution_count": 6,
   "metadata": {},
   "outputs": [
    {
     "data": {
      "image/png": "[encoded data removed]",
      "text/plain": [
       "<Figure size 432x288 with 1 Axes>"
      ]
     },
     "metadata": {},
     "output_type": "display_data"
    }
   ],
   "source": [
    "plt.imshow(mask)\n",
    "plt.show()"
   ]
  },
  {
   "cell_type": "code",
   "execution_count": 7,
   "metadata": {},
   "outputs": [
    {
     "ename": "SyntaxError",
     "evalue": "invalid syntax (mice_video.py, line 122)",
     "output_type": "error",
     "traceback": [
      "Traceback \u001b[0;36m(most recent call last)\u001b[0m:\n",
      "  File \u001b[1;32m\"/Users/adam/anaconda/lib/python3.6/site-packages/IPython/core/interactiveshell.py\"\u001b[0m, line \u001b[1;32m2963\u001b[0m, in \u001b[1;35mrun_code\u001b[0m\n    exec(code_obj, self.user_global_ns, self.user_ns)\n",
      "\u001b[0;36m  File \u001b[0;32m\"<ipython-input-7-92aecd1cf9dc>\"\u001b[0;36m, line \u001b[0;32m2\u001b[0;36m, in \u001b[0;35m<module>\u001b[0;36m\u001b[0m\n\u001b[0;31m    from tools import mice_video as mice\u001b[0m\n",
      "\u001b[0;36m  File \u001b[0;32m\"/Users/adam/Documents/UCSF/Rotation/Andino/Polio_DIPS/tools/mice_video.py\"\u001b[0;36m, line \u001b[0;32m122\u001b[0m\n\u001b[0;31m    cv2.cornerSubPix(gray, :corners, (3, 3), (-1, -1), subpix_criteria)\u001b[0m\n\u001b[0m                           ^\u001b[0m\n\u001b[0;31mSyntaxError\u001b[0m\u001b[0;31m:\u001b[0m invalid syntax\n"
     ]
    }
   ],
   "source": [
    "# Import mice_video.py\n",
    "from tools import mice_video as mice"
   ]
  },
  {
   "cell_type": "code",
   "execution_count": 1,
   "metadata": {},
   "outputs": [
    {
     "ename": "NameError",
     "evalue": "name 'mice' is not defined",
     "output_type": "error",
     "traceback": [
      "\u001b[0;31m---------------------------------------------------------------------------\u001b[0m",
      "\u001b[0;31mNameError\u001b[0m                                 Traceback (most recent call last)",
      "\u001b[0;32m<ipython-input-1-6f76fc76e8da>\u001b[0m in \u001b[0;36m<module>\u001b[0;34m()\u001b[0m\n\u001b[1;32m      1\u001b[0m \u001b[0;31m# If the program works correctly, the output image should be the same as above\u001b[0m\u001b[0;34m\u001b[0m\u001b[0;34m\u001b[0m\u001b[0m\n\u001b[0;32m----> 2\u001b[0;31m \u001b[0mtest_image\u001b[0m \u001b[0;34m=\u001b[0m \u001b[0mmice\u001b[0m\u001b[0;34m.\u001b[0m\u001b[0mvideo_correction\u001b[0m\u001b[0;34m(\u001b[0m\u001b[0mnp_dot_list\u001b[0m\u001b[0;34m,\u001b[0m \u001b[0mimage_test\u001b[0m\u001b[0;34m=\u001b[0m\u001b[0;32mTrue\u001b[0m\u001b[0;34m)\u001b[0m\u001b[0;34m\u001b[0m\u001b[0m\n\u001b[0m\u001b[1;32m      3\u001b[0m \u001b[0;31m# Show the image\u001b[0m\u001b[0;34m\u001b[0m\u001b[0;34m\u001b[0m\u001b[0m\n\u001b[1;32m      4\u001b[0m \u001b[0mplt\u001b[0m\u001b[0;34m.\u001b[0m\u001b[0mimshow\u001b[0m\u001b[0;34m(\u001b[0m\u001b[0mtest_image\u001b[0m\u001b[0;34m)\u001b[0m\u001b[0;34m\u001b[0m\u001b[0m\n\u001b[1;32m      5\u001b[0m \u001b[0mplt\u001b[0m\u001b[0;34m.\u001b[0m\u001b[0mshow\u001b[0m\u001b[0;34m(\u001b[0m\u001b[0;34m)\u001b[0m\u001b[0;34m\u001b[0m\u001b[0m\n",
      "\u001b[0;31mNameError\u001b[0m: name 'mice' is not defined"
     ]
    }
   ],
   "source": [
    "# If the program works correctly, the output image should be the same as above\n",
    "test_image = mice.video_correction(np_dot_list, image_test=True)\n",
    "# Show the image\n",
    "plt.imshow(test_image)\n",
    "plt.show()"
   ]
  },
  {
   "cell_type": "markdown",
   "metadata": {},
   "source": [
    "Success, moving on to correctly returning the values K, D, and DIM"
   ]
  },
  {
   "cell_type": "code",
   "execution_count": 10,
   "metadata": {},
   "outputs": [
    {
     "ename": "error",
     "evalue": "/Users/travis/miniconda3/conda-bld/opencv_1489542914304/work/opencv-3.1.0/modules/imgproc/src/cornersubpix.cpp:56: error: (-215) count >= 0 in function cornerSubPix\n",
     "output_type": "error",
     "traceback": [
      "\u001b[0;31m---------------------------------------------------------------------------\u001b[0m",
      "\u001b[0;31merror\u001b[0m                                     Traceback (most recent call last)",
      "\u001b[0;32m<ipython-input-10-8ee35ab82577>\u001b[0m in \u001b[0;36m<module>\u001b[0;34m()\u001b[0m\n\u001b[0;32m----> 1\u001b[0;31m \u001b[0mK\u001b[0m\u001b[0;34m,\u001b[0m \u001b[0mD\u001b[0m\u001b[0;34m,\u001b[0m \u001b[0mDIM\u001b[0m \u001b[0;34m=\u001b[0m \u001b[0mmice\u001b[0m\u001b[0;34m.\u001b[0m\u001b[0mvideo_correction\u001b[0m\u001b[0;34m(\u001b[0m\u001b[0mnp_dot_list\u001b[0m\u001b[0;34m,\u001b[0m \u001b[0mimage_test\u001b[0m\u001b[0;34m=\u001b[0m\u001b[0;32mFalse\u001b[0m\u001b[0;34m)\u001b[0m\u001b[0;34m\u001b[0m\u001b[0m\n\u001b[0m",
      "\u001b[0;32m~/Documents/UCSF/Rotation/Andino/Polio_DIPS/tools/mice_video.py\u001b[0m in \u001b[0;36mvideo_correction\u001b[0;34m(checkerboard_vertices, image_shape, image_test)\u001b[0m\n\u001b[1;32m    124\u001b[0m                      \u001b[0;34m(\u001b[0m\u001b[0;36m3\u001b[0m\u001b[0;34m,\u001b[0m \u001b[0;36m3\u001b[0m\u001b[0;34m)\u001b[0m\u001b[0;34m,\u001b[0m\u001b[0;34m\u001b[0m\u001b[0m\n\u001b[1;32m    125\u001b[0m                      \u001b[0;34m(\u001b[0m\u001b[0;34m-\u001b[0m\u001b[0;36m1\u001b[0m\u001b[0;34m,\u001b[0m \u001b[0;34m-\u001b[0m\u001b[0;36m1\u001b[0m\u001b[0;34m)\u001b[0m\u001b[0;34m,\u001b[0m\u001b[0;34m\u001b[0m\u001b[0m\n\u001b[0;32m--> 126\u001b[0;31m                      subpix_criteria)\n\u001b[0m\u001b[1;32m    127\u001b[0m     \u001b[0mimgpoints\u001b[0m\u001b[0;34m.\u001b[0m\u001b[0mappend\u001b[0m\u001b[0;34m(\u001b[0m\u001b[0mcorners\u001b[0m\u001b[0;34m)\u001b[0m\u001b[0;34m\u001b[0m\u001b[0m\n\u001b[1;32m    128\u001b[0m \u001b[0;34m\u001b[0m\u001b[0m\n",
      "\u001b[0;31merror\u001b[0m: /Users/travis/miniconda3/conda-bld/opencv_1489542914304/work/opencv-3.1.0/modules/imgproc/src/cornersubpix.cpp:56: error: (-215) count >= 0 in function cornerSubPix\n"
     ]
    }
   ],
   "source": [
    "K, D, DIM = mice.video_correction(np_dot_list, image_test=False)"
   ]
  },
  {
   "cell_type": "code",
   "execution_count": null,
   "metadata": {
    "collapsed": true
   },
   "outputs": [],
   "source": []
  }
 ],
 "metadata": {
  "kernelspec": {
   "display_name": "Python 2",
   "language": "python",
   "name": "python2"
  },
  "language_info": {
   "codemirror_mode": {
    "name": "ipython",
    "version": 2
   },
   "file_extension": ".py",
   "mimetype": "text/x-python",
   "name": "python",
   "nbconvert_exporter": "python",
   "pygments_lexer": "ipython2",
   "version": "2.7.14"
  }
 },
 "nbformat": 4,
 "nbformat_minor": 1
}
