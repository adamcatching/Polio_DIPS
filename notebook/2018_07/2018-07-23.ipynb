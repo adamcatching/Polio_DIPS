{
 "cells": [
  {
   "cell_type": "markdown",
   "metadata": {
    "collapsed": true
   },
   "source": [
    "# July 23rd, 2018\n",
    "## Benjamin Adam Catching\n",
    "## Andino Lab, Summer Rotation\n",
    "## Poliovirus DIPs Project"
   ]
  },
  {
   "cell_type": "markdown",
   "metadata": {},
   "source": [
    "Today it may be good to advance the mouse video detection script. This will involve:  \n",
    "1) Putting all prior code into a python script  \n",
    "2) Ensuring the current code is sufficient to work on most videos  \n",
    "3) Advance the mouse detection by adding \"memory\" to the video, correcting for blinking and non-mouse detection  \n",
    "4) If the image segmentation stabilizes and can be used for two to five mice per video, use the script to add recognition of 'barcoded' tails  "
   ]
  },
  {
   "cell_type": "code",
   "execution_count": null,
   "metadata": {},
   "outputs": [],
   "source": []
  }
 ],
 "metadata": {
  "kernelspec": {
   "display_name": "Python 2",
   "language": "python",
   "name": "python2"
  },
  "language_info": {
   "codemirror_mode": {
    "name": "ipython",
    "version": 2
   },
   "file_extension": ".py",
   "mimetype": "text/x-python",
   "name": "python",
   "nbconvert_exporter": "python",
   "pygments_lexer": "ipython2",
   "version": "2.7.6"
  }
 },
 "nbformat": 4,
 "nbformat_minor": 0
}
