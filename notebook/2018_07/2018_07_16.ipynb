{
 "cells": [
  {
   "cell_type": "markdown",
   "metadata": {},
   "source": [
    "# July 16th, 2018\n",
    "## Benjamin Adam Catching\n",
    "## Andino Lab Rotation\n",
    "## Polio DIPs Project"
   ]
  },
  {
   "cell_type": "code",
   "execution_count": 1,
   "metadata": {
    "collapsed": true
   },
   "outputs": [],
   "source": [
    "import numpy as np\n",
    "import matplotlib.pyplot as plt\n",
    "import seaborn as sns\n",
    "import glob\n",
    "\n",
    "import skimage.filters\n",
    "import skimage.morphology\n",
    "import skimage.io\n",
    "import skimage.segmentation\n",
    "import skimage.exposure\n",
    "import skimage.feature\n",
    "import pprint\n",
    "import scipy.ndimage\n",
    "from skimage.draw import circle"
   ]
  },
  {
   "cell_type": "code",
   "execution_count": 2,
   "metadata": {
    "collapsed": true
   },
   "outputs": [],
   "source": [
    "class Bulk_droplet:\n",
    "    \"\"\"Create an image object from the read in file\"\"\"\n",
    "    \n",
    "    def __init__(self, filename, micron_per_pixel=1, gfp_thresh=0, multi_channel=False,\n",
    "                testing=False):\n",
    "        \"\"\"Initialize the image data\"\"\"\n",
    "        \n",
    "        # Define input image attributes\n",
    "        self.filename = filename\n",
    "        self.image = skimage.io.imread(filename)\n",
    "        self.micron_per_pixel = micron_per_pixel\n",
    "        self.gfp_thresh = gfp_thresh\n",
    "        self.shape = self.image.shape\n",
    "        self.multi_channel = multi_channel\n",
    "        \n",
    "    def droplet_segment(self, testing=False):\n",
    "        \"\"\"Return droplets and their properties\"\"\"\n",
    "        \n",
    "        # If the image has multiple channels, choose the channel to determine droplets from\n",
    "        if self.multi_channel:\n",
    "            bright_channel = int(input('Input brightfield channel: '))\n",
    "            image_bright = (self.image)[:, :, bright_channel]\n",
    "        else:\n",
    "            image_bright = self.image\n",
    "\n",
    "        # Find the Otsu threshold\n",
    "        bright_thresh_otsu = skimage.filters.threshold_otsu(image_bright)\n",
    "        \n",
    "        # Label thesholded images\n",
    "        bright_threshold = image_bright > bright_thresh_otsu\n",
    "        image_labeled, number_labels = skimage.measure.label(bright_threshold, background=0, return_num=True)\n",
    "        \n",
    "        # Get the properties of the labeled regions\n",
    "        image_props = skimage.measure.regionprops(image_labeled)\n",
    "\n",
    "        # Create a blank region of the original image\n",
    "        blank_background= np.zeros(image_bright.shape)\n",
    "        \n",
    "        for index, prop in enumerate(image_props):\n",
    "            #print(prop.area)\n",
    "            # If the region properties are within the threshold\n",
    "            if prop.area >= 10000 and prop.eccentricity <= 0.50:\n",
    "                # Select the region\n",
    "                #print(index)\n",
    "                temp_seg = image_labeled==index+1\n",
    "                filled_seg = temp_seg\n",
    "                # Add the temp region\n",
    "                blank_background = blank_background + filled_seg\n",
    "                                \n",
    "        # Fill the holes of the image\n",
    "        image_droplets = scipy.ndimage.binary_fill_holes(blank_background)\n",
    "        image_droplets = skimage.morphology.closing(image_droplets, selem=skimage.morphology.disk(2))\n",
    "        image_droplets = skimage.morphology.erosion(image_droplets, selem=skimage.morphology.disk(2))\n",
    "        \n",
    "        \n",
    "        # If testing is True, show the image\n",
    "        if testing:\n",
    "            with sns.axes_style(\"dark\"):\n",
    "                # Define the number of pixels in a millimeter\n",
    "                mm = (1 / self.micron_per_pixel) * 500\n",
    "\n",
    "                # Define the number of ticks\n",
    "                num_x_ticks = (image_bright.shape)[1] // mm + 1\n",
    "                num_y_ticks = (image_bright.shape)[0] // mm + 1\n",
    "                plt.imshow(image_droplets)\n",
    "                plt.xticks(np.arange(0, (image_bright.shape)[1], mm), np.arange(0, num_x_ticks))\n",
    "                plt.yticks(np.arange(0, (image_bright.shape)[0], mm), np.arange(0, num_y_ticks))\n",
    "                plt.xlabel(\"x-axis (mm)\")\n",
    "                plt.ylabel(\"y-axis (mm)\")\n",
    "                plt.title(\"Segmented Droplets\")\n",
    "                plt.show()\n",
    "            \n",
    "        image_labeled, number_labels = skimage.measure.label(image_droplets, background=0, return_num=True)\n",
    "        \n",
    "        # Get the properties of the labeled regions\n",
    "        image_props = skimage.measure.regionprops(image_labeled)\n",
    "        \n",
    "        d = 3\n",
    "        for i in range(d):\n",
    "            image_props\n",
    "            \n",
    "        return image_labeled, image_props\n",
    "    \n",
    "    def find_brightfield_cells(self):\n",
    "        \"\"\"Return the brightfield cells\"\"\"\n",
    "        \n",
    "        # Call the labeled black-white droplet image and the associated properties\n",
    "        image_labeled, image_props = self.droplet_segment()\n",
    "        \n",
    "        # Define the droplet images\n",
    "        labeled_droplets, number_droplets = skimage.measure.label(image_labeled, background=0, return_num=True)\n",
    "        bright_droplet_props = skimage.measure.regionprops(labeled_droplets, image_bright)\n",
    "        \n",
    "        return labeled_droplets, bright_droplet_props"
   ]
  },
  {
   "cell_type": "code",
   "execution_count": 3,
   "metadata": {},
   "outputs": [
    {
     "data": {
      "text/plain": [
       "['../../data/20180710_Microfludic_picture/HeLa_Fast/10_40X_DIC.tif',\n",
       " '../../data/20180710_Microfludic_picture/HeLa_Fast/10_40X_sytox.tif',\n",
       " '../../data/20180710_Microfludic_picture/HeLa_Fast/1_20X_DIC.tif',\n",
       " '../../data/20180710_Microfludic_picture/HeLa_Fast/1_20X_stox.tif',\n",
       " '../../data/20180710_Microfludic_picture/HeLa_Fast/1_40X_DIC.tif',\n",
       " '../../data/20180710_Microfludic_picture/HeLa_Fast/1_40X_sytox.tif',\n",
       " '../../data/20180710_Microfludic_picture/HeLa_Fast/2_40X_DIC.tif',\n",
       " '../../data/20180710_Microfludic_picture/HeLa_Fast/2_40X_sytox.tif',\n",
       " '../../data/20180710_Microfludic_picture/HeLa_Fast/3_40X_DIC.tif',\n",
       " '../../data/20180710_Microfludic_picture/HeLa_Fast/3_40X_sytox.tif',\n",
       " '../../data/20180710_Microfludic_picture/HeLa_Fast/4_40X_DIC.tif',\n",
       " '../../data/20180710_Microfludic_picture/HeLa_Fast/4_40X_sytox.tif',\n",
       " '../../data/20180710_Microfludic_picture/HeLa_Fast/5_40X_DIC.tif',\n",
       " '../../data/20180710_Microfludic_picture/HeLa_Fast/5_40X_sytox.tif',\n",
       " '../../data/20180710_Microfludic_picture/HeLa_Fast/6_40X_DIC.tif',\n",
       " '../../data/20180710_Microfludic_picture/HeLa_Fast/6_40X_sytox.tif',\n",
       " '../../data/20180710_Microfludic_picture/HeLa_Fast/7_40X_DIC.tif',\n",
       " '../../data/20180710_Microfludic_picture/HeLa_Fast/7_40X_sytox.tif',\n",
       " '../../data/20180710_Microfludic_picture/HeLa_Fast/8_40X_DIC.tif',\n",
       " '../../data/20180710_Microfludic_picture/HeLa_Fast/8_40X_sytox.tif',\n",
       " '../../data/20180710_Microfludic_picture/HeLa_Fast/9_40X_DIC.tif',\n",
       " '../../data/20180710_Microfludic_picture/HeLa_Fast/9_40X_sytox.tif']"
      ]
     },
     "execution_count": 3,
     "metadata": {},
     "output_type": "execute_result"
    }
   ],
   "source": [
    "# Define the test series of images\n",
    "HeLa_Fast_filenames = glob.glob(\"../../data/20180710_Microfludic_picture/HeLa_Fast/*.tif\")\n",
    "HeLa_Fast_filenames = sorted(HeLa_Fast_filenames)\n",
    "HeLa_Fast_filenames"
   ]
  },
  {
   "cell_type": "code",
   "execution_count": 4,
   "metadata": {
    "collapsed": true
   },
   "outputs": [],
   "source": [
    "# Test the current function on the first set of images\n",
    "test_image = Bulk_droplet(HeLa_Fast_filenames[4], gfp_thresh=50, multi_channel=True)"
   ]
  },
  {
   "cell_type": "code",
   "execution_count": 5,
   "metadata": {},
   "outputs": [
    {
     "name": "stdout",
     "output_type": "stream",
     "text": [
      "Input brightfield channel: 0\n"
     ]
    },
    {
     "data": {
      "image/png": "[encoded data removed]",
      "text/plain": [
       "<Figure size 576x396 with 1 Axes>"
      ]
     },
     "metadata": {},
     "output_type": "display_data"
    }
   ],
   "source": [
    "test_image_labeled, test_image_props = test_image.droplet_segment(testing=True)"
   ]
  },
  {
   "cell_type": "code",
   "execution_count": null,
   "metadata": {
    "collapsed": true
   },
   "outputs": [],
   "source": []
  }
 ],
 "metadata": {
  "kernelspec": {
   "display_name": "Python 3",
   "language": "python",
   "name": "python3"
  },
  "language_info": {
   "codemirror_mode": {
    "name": "ipython",
    "version": 3
   },
   "file_extension": ".py",
   "mimetype": "text/x-python",
   "name": "python",
   "nbconvert_exporter": "python",
   "pygments_lexer": "ipython3",
   "version": "3.6.3"
  }
 },
 "nbformat": 4,
 "nbformat_minor": 2
}
