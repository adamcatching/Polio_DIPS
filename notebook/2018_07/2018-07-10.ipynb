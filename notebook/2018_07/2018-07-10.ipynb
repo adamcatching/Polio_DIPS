{
 "cells": [
  {
   "cell_type": "markdown",
   "metadata": {},
   "source": [
    "# 10th of July, 2018\n",
    "## Benjamin Adam Catching\n",
    "## Andino Lab Rotation\n",
    "## Poliovirus DIP Project"
   ]
  },
  {
   "cell_type": "code",
   "execution_count": 1,
   "metadata": {
    "collapsed": true
   },
   "outputs": [],
   "source": [
    "import numpy as np\n",
    "import cv2\n",
    "import matplotlib.pyplot as plt\n",
    "import glob\n",
    "import skvideo.io\n",
    "import skimage.io"
   ]
  },
  {
   "cell_type": "code",
   "execution_count": 8,
   "metadata": {},
   "outputs": [
    {
     "name": "stdout",
     "output_type": "stream",
     "text": [
      "Processed 100 frames so far\n"
     ]
    }
   ],
   "source": [
    "# Read in the converted .h264 -> .m4v, convert to array of frames\n",
    "frames = []\n",
    "cap = skvideo.io.vreader('../../data/corrected_test_video.m4v')\n",
    "\n",
    "it = 0\n",
    "while True:\n",
    "    try:\n",
    "        image = next(cap)\n",
    "        frames.append(image)\n",
    "        it += 1\n",
    "        if (it % 100 == 0):\n",
    "            print('Processed %d frames so far' % (it))\n",
    "    except:\n",
    "        break"
   ]
  },
  {
   "cell_type": "code",
   "execution_count": 15,
   "metadata": {},
   "outputs": [],
   "source": [
    "fgbg = cv2.bgsegm.createBackgroundSubtractorMOG()"
   ]
  },
  {
   "cell_type": "code",
   "execution_count": 33,
   "metadata": {},
   "outputs": [],
   "source": [
    "background_sub = []\n",
    "for frame in frames:\n",
    "    fgmask = fgbg.apply(frame)\n",
    "    background_sub.append(fgmask)"
   ]
  },
  {
   "cell_type": "code",
   "execution_count": 36,
   "metadata": {},
   "outputs": [],
   "source": [
    "skvideo.io.vwrite('../../data/subtracted_test.m4v', background_sub)"
   ]
  },
  {
   "cell_type": "code",
   "execution_count": 37,
   "metadata": {},
   "outputs": [
    {
     "name": "stdout",
     "output_type": "stream",
     "text": [
      "Processed 100 frames so far\n",
      "Processed 200 frames so far\n",
      "Processed 300 frames so far\n",
      "Processed 400 frames so far\n",
      "Processed 500 frames so far\n",
      "Processed 600 frames so far\n"
     ]
    }
   ],
   "source": [
    "# Read in the converted .h264 -> .m4v, convert to array of frames\n",
    "frames = []\n",
    "cap = skvideo.io.vreader('../../data/corrected_.Test3_2black_rr.m4v')\n",
    "\n",
    "it = 0\n",
    "while True:\n",
    "    try:\n",
    "        image = next(cap)\n",
    "        frames.append(image)\n",
    "        it += 1\n",
    "        if (it % 100 == 0):\n",
    "            print('Processed %d frames so far' % (it))\n",
    "    except:\n",
    "        break"
   ]
  },
  {
   "cell_type": "code",
   "execution_count": 38,
   "metadata": {
    "collapsed": true
   },
   "outputs": [],
   "source": [
    "fgbg = cv2.bgsegm.createBackgroundSubtractorMOG()\n",
    "background_sub = []\n",
    "for frame in frames:\n",
    "    fgmask = fgbg.apply(frame)\n",
    "    background_sub.append(fgmask)\n",
    "skvideo.io.vwrite('../../data/subtracted_Test3_2black_rr.m4v', background_sub)"
   ]
  },
  {
   "cell_type": "code",
   "execution_count": 42,
   "metadata": {},
   "outputs": [],
   "source": [
    "test_frame = frames[0]\n",
    "test_background = fgbg.getBackgroundImage"
   ]
  },
  {
   "cell_type": "code",
   "execution_count": 53,
   "metadata": {},
   "outputs": [],
   "source": [
    "fgmask = fgbg.apply(test_frame)"
   ]
  },
  {
   "cell_type": "code",
   "execution_count": 55,
   "metadata": {},
   "outputs": [
    {
     "data": {
      "image/png": "[encoded data removed]",
      "text/plain": [
       "<Figure size 432x288 with 1 Axes>"
      ]
     },
     "metadata": {},
     "output_type": "display_data"
    }
   ],
   "source": [
    "plt.imshow(fgmask)\n",
    "plt.show()"
   ]
  },
  {
   "cell_type": "code",
   "execution_count": null,
   "metadata": {
    "collapsed": true
   },
   "outputs": [],
   "source": []
  }
 ],
 "metadata": {
  "kernelspec": {
   "display_name": "Python 3",
   "language": "python",
   "name": "python3"
  },
  "language_info": {
   "codemirror_mode": {
    "name": "ipython",
    "version": 3
   },
   "file_extension": ".py",
   "mimetype": "text/x-python",
   "name": "python",
   "nbconvert_exporter": "python",
   "pygments_lexer": "ipython3",
   "version": "3.6.3"
  }
 },
 "nbformat": 4,
 "nbformat_minor": 2
}
