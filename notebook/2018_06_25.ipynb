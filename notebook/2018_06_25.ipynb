{
 "cells": [
  {
   "cell_type": "markdown",
   "metadata": {},
   "source": [
    "# 25th of June, 2018\n",
    "## Benjamin Adam Catching\n",
    "## Ardino Lab Rotation\n",
    "## Poliovirus DIP Project"
   ]
  },
  {
   "cell_type": "markdown",
   "metadata": {},
   "source": [
    "**Paper** : _Printed droplet microfluidics for on demand dispensing of of picoliter droplets and cells_  \n",
    "            PNAS, Abate Lab, 2017  \n",
    "\n",
    "* Different than FACS or microliter pipetting, droplet microfluidics are able to work with picoliter quantities of fluid  \n",
    "* From the device described in the paper, deterministic microliter amounts of fluid are despensed onto printed dots  \n",
    "* For depositing single cells (~50 pL), about 2-5 cell containing droplets can be deposited at a time\n",
    "* Cell containing droplets can be mixed with buffer to bring the total volume on the scale of nanoliters  \n",
    "* Static droplets can be imaged and observed for long durations (not specific what 'long' is)  \n",
    "* The ability to seemingly add and remove fluid to the wells allows for orthogonal experiments"
   ]
  },
  {
   "cell_type": "markdown",
   "metadata": {
    "collapsed": true
   },
   "source": [
    "### Use in the Poliovirus DIP Project  \n",
    "The ability to deposit single cells co-infected with labeled PV3 and DIP PV1. By viewing the relative amounts of fluorescence, real-time single-cell data can be collected on the fitness of different DIP sequences. There is also added flexibility from being able to add two or more cells to the droplet to view possible co-infection?"
   ]
  },
  {
   "cell_type": "code",
   "execution_count": null,
   "metadata": {
    "collapsed": true
   },
   "outputs": [],
   "source": []
  }
 ],
 "metadata": {
  "kernelspec": {
   "display_name": "Python 3",
   "language": "python",
   "name": "python3"
  },
  "language_info": {
   "codemirror_mode": {
    "name": "ipython",
    "version": 3
   },
   "file_extension": ".py",
   "mimetype": "text/x-python",
   "name": "python",
   "nbconvert_exporter": "python",
   "pygments_lexer": "ipython3",
   "version": "3.6.3"
  }
 },
 "nbformat": 4,
 "nbformat_minor": 2
}
