{
 "cells": [
  {
   "cell_type": "markdown",
   "metadata": {},
   "source": [
    "# 27th of June, 2018\n",
    "## Benjamin Adam Catching\n",
    "## Andino Lab Rotation\n",
    "## Poliovirus DIP Project"
   ]
  },
  {
   "cell_type": "markdown",
   "metadata": {},
   "source": [
    "Test data has been received, generously sent from Christian from the Abate lab. Three image files are included; brightfield, GFP, and Cy5. Cy5 reports cell tracker dye that is diffuse through the cell cytoplasm and the GFP reports nuclear intercalating dye called Sytox. Sytox only permeates dead cells, so the cells displaying both Cy5 and GFP are dead.  \n",
    "\n",
    "This image dataset will be useful to practice creating a pipeline that can:  \n",
    "1. Identify wells  \n",
    "2. Identify cells in each well  \n",
    "3. Sort cells into live (Cy5) and dead (GFP). Quantifying this data will be useful for virus infection.  "
   ]
  },
  {
   "cell_type": "code",
   "execution_count": null,
   "metadata": {
    "collapsed": true
   },
   "outputs": [],
   "source": [
    "# Import packages\n",
    "\n",
    "# Data modification\n",
    "import glob\n",
    "import numpy as np\n",
    "\n",
    "# Visualization packages\n",
    "import matplotlib.pyplot as plt\n",
    "import seaborn as sns\n",
    "import skimage.filters\n",
    "import skimage.io\n",
    "import skimage.morphology\n",
    "import skimage.exposure\n",
    "import skimage.color\n",
    "\n",
    "sns.set(style='dark', palette=sns.color_palette(), rc={'axes.labelsize': 20}, font_scale=2)\n",
    "\n",
    "# The following is specific Jupyter notebooks\n",
    "%matplotlib inline\n",
    "%config InlineBackend.figure_formats = {'png', 'retina'}"
   ]
  },
  {
   "cell_type": "code",
   "execution_count": null,
   "metadata": {
    "collapsed": true
   },
   "outputs": [],
   "source": []
  }
 ],
 "metadata": {
  "kernelspec": {
   "display_name": "Python 3",
   "language": "python",
   "name": "python3"
  },
  "language_info": {
   "codemirror_mode": {
    "name": "ipython",
    "version": 3
   },
   "file_extension": ".py",
   "mimetype": "text/x-python",
   "name": "python",
   "nbconvert_exporter": "python",
   "pygments_lexer": "ipython3",
   "version": "3.6.3"
  }
 },
 "nbformat": 4,
 "nbformat_minor": 2
}
