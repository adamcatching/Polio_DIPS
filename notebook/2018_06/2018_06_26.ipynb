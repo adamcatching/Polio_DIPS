{
 "cells": [
  {
   "cell_type": "markdown",
   "metadata": {},
   "source": [
    "# 26th of June, 2018\n",
    "## Benjamin Adam Catching\n",
    "## Andino Lab Rotation\n",
    "## Poliovirus DIP Project"
   ]
  },
  {
   "cell_type": "markdown",
   "metadata": {},
   "source": [
    "Playing with Biopython."
   ]
  },
  {
   "cell_type": "code",
   "execution_count": 5,
   "metadata": {
    "collapsed": true
   },
   "outputs": [],
   "source": [
    "from Bio import Seq\n",
    "from Bio import SeqIO\n",
    "from Bio.SeqRecord import SeqRecord\n",
    "\n",
    "import numpy as np\n",
    "\n",
    "import matplotlib.pyplot as plt\n",
    "import seaborn as sns\n",
    "import os"
   ]
  },
  {
   "cell_type": "code",
   "execution_count": 11,
   "metadata": {
    "collapsed": true
   },
   "outputs": [],
   "source": [
    "# Location of fastq file\n",
    "test_fastq_file = '../data/sequence/SP1.fq'"
   ]
  },
  {
   "cell_type": "code",
   "execution_count": 39,
   "metadata": {
    "collapsed": true
   },
   "outputs": [],
   "source": [
    "# Initialize lists to store sequence data and file\n",
    "test_seq = []\n",
    "test_phred_score = []\n",
    "test_name = []"
   ]
  },
  {
   "cell_type": "code",
   "execution_count": 40,
   "metadata": {},
   "outputs": [],
   "source": [
    "# Iterate and add test sequence data to lists\n",
    "for record in SeqIO.parse(test_fastq_file, 'fastq'):\n",
    "    test_seq.append(record.seq)\n",
    "    test_phred_score.append(record.letter_annotations[\"phred_quality\"])\n",
    "    test_name.append(record.name)"
   ]
  },
  {
   "cell_type": "code",
   "execution_count": 41,
   "metadata": {},
   "outputs": [
    {
     "name": "stdout",
     "output_type": "stream",
     "text": [
      "Sequence Name: cluster_2:UMI_ATTCCG\n",
      "Sequence: TTTCCGGGGCACATAATCTTCAGCCGGGCGC\n",
      "Phred Score: '24,34,26,28,26,28,27,24,31,19,23,21,23,29,24,25,21,22,32,32,27,24,29,21,20,27,28,29,20,24,16'\n"
     ]
    }
   ],
   "source": [
    "# Display the first line of the three lists\n",
    "print(\"Sequence Name: %s\\nSequence: %s\\nPhred Score: %r\" \n",
    "     % (str(test_name[0]), str(test_seq[0]), ','.join([str(x) for x in test_phred_score[0]])))"
   ]
  },
  {
   "cell_type": "code",
   "execution_count": 59,
   "metadata": {},
   "outputs": [],
   "source": [
    "# Find the least error prone read for the first letter\n",
    "for i in range(len(test_seq)):\n",
    "    if test_phred_score[i][2] >= 35:\n",
    "        \"\"\"print(test_seq[i][2], test_phred_score[i][2])\"\"\""
   ]
  },
  {
   "cell_type": "code",
   "execution_count": 75,
   "metadata": {},
   "outputs": [],
   "source": [
    "# Create list of sequences who only have all high phred score values\n",
    "high_phred_score_seqs = []\n",
    "high_phred_scores = []\n",
    "for record in SeqIO.parse(test_fastq_file, 'fastq'):\n",
    "    all_scores = record.letter_annotations[\"phred_quality\"]\n",
    "    error = 0\n",
    "    for score in all_scores:\n",
    "        if score < 30:\n",
    "            error += 1\n",
    "    if error == 0:\n",
    "        high_phred_score_seqs.append(record.seq)\n",
    "        high_phred_scores.append(all_scores)"
   ]
  },
  {
   "cell_type": "code",
   "execution_count": 82,
   "metadata": {},
   "outputs": [
    {
     "name": "stdout",
     "output_type": "stream",
     "text": [
      "TTTCCGGGGCACATAATCTTCAGCCGGGCGC\n",
      "35,35,30,32,36,33,32,30,33,30,35,36,36,36,34,30,36,34,33,31,31,30,31,33,31,36,34,30,34,31,31\n",
      "Mean: 32\n",
      "TATCCTTGCAATACTCTCCGAACGGGAGAGC\n",
      "36,36,36,36,36,36,36,36,36,36,36,36,36,36,36,36,36,36,36,36,36,36,36,36,36,36,36,36,36,36,33\n",
      "Mean: 35\n",
      "GCAGTTTAAGATCATTTTATTGAAGAGCAAG\n",
      "36,36,36,36,36,36,36,36,36,36,36,36,36,36,36,36,36,36,36,36,36,36,36,36,36,36,36,36,36,36,33\n",
      "Mean: 35\n",
      "GGCATTGCAAAATTTATTACACCCCCAGATC\n",
      "30,35,36,34,31,36,36,33,32,32,30,32,36,36,36,34,31,32,30,32,32,35,30,33,30,35,34,31,34,30,30\n",
      "Mean: 32\n"
     ]
    }
   ],
   "source": [
    "# Show the high scoring sequences\n",
    "for index, seq in enumerate(high_phred_score_seqs):\n",
    "    print(\"%s\\n%s\\nMean: %d\" % (str(test_seq[index]),\n",
    "                      ','.join([str(x) for x in high_phred_scores[index]]),\n",
    "                                sum(high_phred_scores[index])/len(high_phred_scores[index]) ))"
   ]
  },
  {
   "cell_type": "code",
   "execution_count": null,
   "metadata": {
    "collapsed": true
   },
   "outputs": [],
   "source": []
  }
 ],
 "metadata": {
  "kernelspec": {
   "display_name": "Python 3",
   "language": "python",
   "name": "python3"
  },
  "language_info": {
   "codemirror_mode": {
    "name": "ipython",
    "version": 3
   },
   "file_extension": ".py",
   "mimetype": "text/x-python",
   "name": "python",
   "nbconvert_exporter": "python",
   "pygments_lexer": "ipython3",
   "version": "3.6.3"
  }
 },
 "nbformat": 4,
 "nbformat_minor": 2
}
