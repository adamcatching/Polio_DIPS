{
 "cells": [
  {
   "cell_type": "markdown",
   "metadata": {},
   "source": [
    "# 28th of June, 2018\n",
    "## Benjamin Adam Catching\n",
    "## Andino Lab Rotation\n",
    "## Poliovirus DIP Project"
   ]
  },
  {
   "cell_type": "markdown",
   "metadata": {},
   "source": [
    "**Paper**: Highly Parallel Genome-wide Expression Profiling of Individual Cells Using Nanoliter Droplets  \n",
    "_Cell_, McCarroll Lab, (2015)  \n",
    "* \n",
    "## Paper will be read after image analysis"
   ]
  },
  {
   "cell_type": "markdown",
   "metadata": {},
   "source": [
    "## Analyze bulk droplets\n",
    "Each 8-bit image, both 4X and 10X, has two channels; brightfield and GFP. The GFP channel reports either the TIP or WT virus, so cells need to be determined from brightfield. This may not be necessary in the future if DAPI or cytosol markers are introduced to the HeLa cells, but for now cells will be segmented from brightfield. The goal is to collect the number of cells per droplet and from those cell determine the ones that are alive or dead and infected or not.\n",
    "\n",
    "### Defined Droplets\n",
    "As the outline of the droplets are dark, threshold the image above the intensity of the outlines. From the black white images, fill if necessary (as cells show up dark) to create a droplet region. Since inter-droplet space will also be picked up, the regions need to be filtered for ellipicity (should be low). Filtered regions will should include all droplets.  \n",
    "\n",
    "### Determine Cells in Droplets\n",
    "Cells are determined from brightfield, so values in that region lower than the Otsu threshold should encompass cells. Again filling the thresholded image should create a cell black-white mask. From the mask individual cells can be segmented through the method developed yesterday. \n",
    "\n",
    "### Determine if Cell is Alive and/or Infected\n",
    "The segmented cells should have a certain size, a radius around 10 $\\mu$m. If the size is significantly above or below this size the cell should be counted as dead. If the cell ellipticity is above 0.5, the cell is probably dead and should be counted as dead. From this sorting of dead and alive, the black-white mask of the alive cells can be applied to the GFP channel to determine the amount of fluorescence. If the fluorescence is below a certain threshold (otsu), count as uninfected. If the fluorescence is above, log it as certain level."
   ]
  },
  {
   "cell_type": "code",
   "execution_count": null,
   "metadata": {
    "collapsed": true
   },
   "outputs": [],
   "source": []
  }
 ],
 "metadata": {
  "kernelspec": {
   "display_name": "Python 3",
   "language": "python",
   "name": "python3"
  },
  "language_info": {
   "codemirror_mode": {
    "name": "ipython",
    "version": 3
   },
   "file_extension": ".py",
   "mimetype": "text/x-python",
   "name": "python",
   "nbconvert_exporter": "python",
   "pygments_lexer": "ipython3",
   "version": "3.6.3"
  }
 },
 "nbformat": 4,
 "nbformat_minor": 2
}
