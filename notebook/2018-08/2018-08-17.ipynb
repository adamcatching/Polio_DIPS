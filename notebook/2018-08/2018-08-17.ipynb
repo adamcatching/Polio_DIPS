{
 "cells": [
  {
   "cell_type": "markdown",
   "metadata": {
    "collapsed": true
   },
   "source": [
    "# August 17th, 2018\n",
    "## Benjamin Adam Catching\n",
    "## Polio-virus DIPs Project\n",
    "## Andino Lab"
   ]
  },
  {
   "cell_type": "markdown",
   "metadata": {},
   "source": [
    "Code has now been integrated into the Microfluidics_analysis file, now apply it to all cells of the conditions:  \n",
    "* P1 and DIP in Optiprep (condition 1)  \n",
    "* PI and DIP not in Optiprep (condition 2)  \n",
    "* Just DIP in Optiprep (condition 3)"
   ]
  },
  {
   "cell_type": "code",
   "execution_count": 1,
   "metadata": {},
   "outputs": [],
   "source": [
    "# Import necessary packages\n",
    "import glob\n",
    "import numpy as np\n",
    "import matplotlib.pyplot as plt\n",
    "import skimage.io\n",
    "import seaborn as sns\n",
    "import skimage\n",
    "import skimage.filters\n",
    "import skimage.measure\n",
    "import skimage.segmentation\n",
    "import skimage.feature\n",
    "import scipy.ndimage as ndi\n",
    "import scipy\n",
    "import pandas as pd\n",
    "import os"
   ]
  },
  {
   "cell_type": "code",
   "execution_count": null,
   "metadata": {},
   "outputs": [],
   "source": []
  }
 ],
 "metadata": {
  "kernelspec": {
   "display_name": "Python 2",
   "language": "python",
   "name": "python2"
  },
  "language_info": {
   "codemirror_mode": {
    "name": "ipython",
    "version": 2
   },
   "file_extension": ".py",
   "mimetype": "text/x-python",
   "name": "python",
   "nbconvert_exporter": "python",
   "pygments_lexer": "ipython2",
   "version": "2.7.6"
  }
 },
 "nbformat": 4,
 "nbformat_minor": 0
}
