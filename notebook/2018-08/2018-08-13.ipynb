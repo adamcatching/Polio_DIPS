{
 "cells": [
  {
   "cell_type": "markdown",
   "metadata": {
    "collapsed": true
   },
   "source": [
    "# August 13th, 2018\n",
    "## Benjamin Adam Catching\n",
    "## Andino Lab\n",
    "## Polio-virus DIPs Project"
   ]
  },
  {
   "cell_type": "markdown",
   "metadata": {},
   "source": [
    "From the bulk data in the _20180710_Microfluidic_picture_ files;  \n",
    "* Process the images to yeild individual cell expression/non-expression of GFP  \n",
    "* Output relevant cell data to dataframe (save as .csv)  \n",
    "* Exploratory Data Analysis using visualization of cell intensity\n",
    "* Analysis the variance data using resampling (both bootstrapping and exact test)  \n",
    "* Analysis of the data with Pearson correlation between experiment (DIP vs. PV1)  \n",
    "  and GFP expression"
   ]
  },
  {
   "cell_type": "code",
   "execution_count": null,
   "metadata": {},
   "outputs": [],
   "source": []
  }
 ],
 "metadata": {
  "kernelspec": {
   "display_name": "Python 2",
   "language": "python",
   "name": "python2"
  },
  "language_info": {
   "codemirror_mode": {
    "name": "ipython",
    "version": 2
   },
   "file_extension": ".py",
   "mimetype": "text/x-python",
   "name": "python",
   "nbconvert_exporter": "python",
   "pygments_lexer": "ipython2",
   "version": "2.7.6"
  }
 },
 "nbformat": 4,
 "nbformat_minor": 0
}
