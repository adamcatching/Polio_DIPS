{
 "cells": [
  {
   "cell_type": "markdown",
   "metadata": {},
   "source": [
    "# August 30th, 2018\n",
    "## Benjamin Adam Catching\n",
    "## Polio-virus DIPs Project\n",
    "## Andino Lab"
   ]
  },
  {
   "cell_type": "markdown",
   "metadata": {},
   "source": [
    "Now that cells can be segmented and differentiated within the same droplet, condense the data from each cell into a dataframe with the the values cell_area, gfp_mean, gfp_std, and gfp_area."
   ]
  },
  {
   "cell_type": "code",
   "execution_count": 7,
   "metadata": {},
   "outputs": [],
   "source": [
    "# Import the important packages\n",
    "import glob\n",
    "import numpy as np\n",
    "import matplotlib.pyplot as plt\n",
    "import seaborn as sns\n",
    "import skimage\n",
    "import scipy\n",
    "import pandas as pd\n",
    "import os\n",
    "import sys\n",
    "# Import the processing script\n",
    "import microfluidics_analysis as ma"
   ]
  },
  {
   "cell_type": "code",
   "execution_count": 8,
   "metadata": {},
   "outputs": [],
   "source": [
    "# Define the location of the files\n",
    "bulk_cell_dir = '../../data/07.27_HeLa_TIP_Hong/'\n",
    "\n",
    "# Define the six directories that contain image files\n",
    "set_1 = '#1/10x-[0-9].tif'\n",
    "set_2 = '#2/10x-[0-9].tif'\n",
    "set_3 = '#3/10x-[0-9].tif'\n",
    "\n",
    "# Read in the files\n",
    "group_1 = sorted(glob.glob(bulk_cell_dir + set_1))\n",
    "group_2 = sorted(glob.glob(bulk_cell_dir + set_2))\n",
    "group_3 = sorted(glob.glob(bulk_cell_dir + set_3))"
   ]
  },
  {
   "cell_type": "code",
   "execution_count": 9,
   "metadata": {},
   "outputs": [
    {
     "name": "stdout",
     "output_type": "stream",
     "text": [
      "477\n",
      "413\n",
      "407\n"
     ]
    }
   ],
   "source": [
    "group_1_bright, group_1_gfp = ma.droplet_save(group_1)\n",
    "group_2_bright, group_2_gfp = ma.droplet_save(group_2)\n",
    "group_3_bright, group_3_gfp = ma.droplet_save(group_3)\n",
    "\n",
    "print(len(group_1_bright))\n",
    "print(len(group_2_bright))\n",
    "print(len(group_3_bright))"
   ]
  },
  {
   "cell_type": "code",
   "execution_count": 13,
   "metadata": {},
   "outputs": [],
   "source": [
    "group_1_segment = [ma.cell_segment_10x(x) for x in group_1_bright]\n",
    "group_2_segment = [ma.cell_segment_10x(x) for x in group_2_bright]\n",
    "group_3_segment = [ma.cell_segment_10x(x) for x in group_3_bright]"
   ]
  },
  {
   "cell_type": "code",
   "execution_count": 14,
   "metadata": {},
   "outputs": [],
   "source": [
    "# Bring the previously determined droplets with cells values from yesterday\n",
    "group_1_cell_numbers = np.array([4, 9, 10, 11, 24, 37, 38, 43, 45, 47, 49, 57, 72, 75, 86, 99, \n",
    "                                 111, 116, 117, 128, 135, 139, 145, 152, 155, 161, 167, 171, 174, \n",
    "                                 182, 184, 187, 203, 204, 212, 226, 231, 235, 236, 240, 266, \n",
    "                                 269, 270, 272, 277, 282, 286, 292, 294, 296, 301, 305, 306, 323, \n",
    "                                 325, 326, 332, 342, 345, 350, 351, 352, 356, 371, 385, 403, 404, \n",
    "                                 421, 427, 429, 432, 437, 441, 446, 447, 450, 461, 462, 473])\n",
    "\n",
    "group_2_cell_numbers = np.array([0, 6, 20, 21, 32, 40, 44, 47, 50, 64, 67, 70, 75, 77, 98, \n",
    "                                 109, 118, 123, 133, 134, 138, 145, 149, 150, 152, 156, 159,\n",
    "                                 162, 163, 165, 167, 170, 178, 191, 203, 207, 209, 210, 214,\n",
    "                                 215, 225, 228, 229, 230, 233, 245, 246, 248, 250, 254, 264, \n",
    "                                 271, 291, 299, 305, 312, 331, 333, 335, 339, 340, 343, 354,\n",
    "                                 357, 359, 365, 375, 376, 388, 390, 393, 395, 411])\n",
    "group_3_cell_numbers = np.array([2, 4, 10, 11, 17, 21, 22, 26, 28, 40, 44, 49, 52, 53, 55, 62, 65,\n",
    "                                 67, 71, 78, 84, 86, 87, 90, 91, 98, 100, 101, 103, 104, 107, 108,\n",
    "                                 109, 115, 116, 119, 121, 130, 131, 132, 133, 152, 157, 160, 170, \n",
    "                                 171, 175, 176, 177, 185, 187, 197, 204, 205, 207, 208, 210, 213, \n",
    "                                 214, 215, 216, 217, 221, 226, 233, 235, 238, 246, 253, 256, 265, \n",
    "                                 266, 272, 278, 280, 285, 286, 287, 288, 292, 297, 302, 310, 311, \n",
    "                                 312, 314, 318, 319, 322, 325, 333, 334, 341, 344, 346, 353, 354, \n",
    "                                 357, 366, 372, 376, 380, 395, 402, 403, 404, 406])"
   ]
  },
  {
   "cell_type": "code",
   "execution_count": 6,
   "metadata": {},
   "outputs": [
    {
     "data": {
      "image/png": "[encoded data removed]",
      "text/plain": [
       "<Figure size 576x396 with 1 Axes>"
      ]
     },
     "metadata": {},
     "output_type": "display_data"
    }
   ],
   "source": []
  },
  {
   "cell_type": "code",
   "execution_count": null,
   "metadata": {},
   "outputs": [],
   "source": []
  }
 ],
 "metadata": {
  "kernelspec": {
   "display_name": "Python 3",
   "language": "python",
   "name": "python3"
  },
  "language_info": {
   "codemirror_mode": {
    "name": "ipython",
    "version": 3
   },
   "file_extension": ".py",
   "mimetype": "text/x-python",
   "name": "python",
   "nbconvert_exporter": "python",
   "pygments_lexer": "ipython3",
   "version": "3.6.3"
  }
 },
 "nbformat": 4,
 "nbformat_minor": 2
}
